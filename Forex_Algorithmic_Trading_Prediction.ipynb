{
  "nbformat": 4,
  "nbformat_minor": 0,
  "metadata": {
    "colab": {
      "name": "Forex Algorithmic Trading Prediction.ipynb",
      "provenance": [],
      "collapsed_sections": [],
      "toc_visible": true,
      "authorship_tag": "ABX9TyP5hdxD0RDXWKylVYxdvdeQ",
      "include_colab_link": true
    },
    "kernelspec": {
      "name": "python3",
      "display_name": "Python 3"
    },
    "accelerator": "GPU"
  },
  "cells": [
    {
      "cell_type": "markdown",
      "metadata": {
        "id": "view-in-github",
        "colab_type": "text"
      },
      "source": [
        "<a href=\"https://colab.research.google.com/github/kennedynjoroge/10-steps-to-become-a-data-scientist/blob/master/Forex_Algorithmic_Trading_Prediction.ipynb\" target=\"_parent\"><img src=\"https://colab.research.google.com/assets/colab-badge.svg\" alt=\"Open In Colab\"/></a>"
      ]
    },
    {
      "cell_type": "markdown",
      "metadata": {
        "id": "0lB_HCF7oDEg",
        "colab_type": "text"
      },
      "source": [
        "# Forex Algorithmic Trading Prediction"
      ]
    },
    {
      "cell_type": "markdown",
      "metadata": {
        "id": "lyk_U-RHkQXz",
        "colab_type": "text"
      },
      "source": [
        "\n",
        "## 1.0 Defining the question\n",
        "### Objective\n",
        "Predict the highest and lowest price of the candle in the next upcoming hour.\n",
        "\n",
        "### Metric for success\n",
        "- Accuracy of predicted highest and lowest price.\n",
        "- Cummulative net profit of the orders based on predicted signals.\n",
        "- Number of won/lost orders\n",
        "\n",
        "### Understanding the context\n",
        "Foreign Exchange(FOREX) is the global market that allows the exchange of one currency for another. 5.3 trillion dollars worth of forex are traded daily. The forex market is open 24 hours a day and 5 days a week, only closing down during the weekend. The day starts when traders wake up in Sydney then moves to Tokyo, London, Frankfurt and finally, New York, before trading starts all over again in Sydney!\n",
        "\n",
        "Buying a currency is buying a share in a particular country. The price of the currency is usually a direct reflection of the market’s opinion on the current and future health of its respective economy.\n",
        "\n",
        "Forex trading is the simultaneous buying of one currency and selling another. Currencies are traded through a broker or dealer, and are traded in pairs e.g USD/JPY(US dollars/Japanese Yen).\n",
        "\n",
        "The forex market is a decentralized global network of trading partners, including banks, public and private institutions, retail dealers, speculators, and central banks in-volved in the business of buying and selling money. Trades can take place anywhere as long as you have an Internet connection! While forex market has commercial and financial transactions as part of the trading volume, 90% currency trading is based on speculation. \n",
        "\n",
        "You would buy the pair if you believe the base currency will appreciate (gain value) relative to the quote currency.\n",
        "You would sell the pair if you think the base currency will depreciate (lose value) relative to the quote currency.\n",
        "\n",
        "90% of retail buyers lose money due to making of wrong decision. Therebeing, objective is to use machine learning to increase the chances of making a profit.\n",
        "More info about forex trading available here -> https://www.babypips.com/learn/forex/\n",
        "\n",
        "### Data Source\n",
        "- Forex Capital Markets(FXCM), is a retail broker. Python wrapper API utilized to extract historical bid(sell) and ask(buy) data for USD/JPY instrument.\n",
        "Historical data is useful for detailed examination of a market's past behaviour, traders and investors can gain perspective on the inner workings of that market.\n",
        "\n",
        "- Quandl a marketplace for financial, economic data. Python wrapper API utilized to extract fundamental datasets i.e interest and employment rates.\n",
        "\n",
        "\n",
        "### Assumptions\n",
        "- Data from demo/sandbox is similar to production.\n",
        "- Currency and Fundamental data e.g interest rates is valid."
      ]
    },
    {
      "cell_type": "markdown",
      "metadata": {
        "id": "ukyXMnqfkVzF",
        "colab_type": "text"
      },
      "source": [
        "## 2.0 Libraries and Data Importation\n",
        "\n"
      ]
    },
    {
      "cell_type": "markdown",
      "metadata": {
        "id": "dW-DMw46LOpU",
        "colab_type": "text"
      },
      "source": [
        "### Import Libraries\n"
      ]
    },
    {
      "cell_type": "code",
      "metadata": {
        "id": "0HeRfPQJ5uTv",
        "colab_type": "code",
        "colab": {}
      },
      "source": [
        "import datetime  as dt # Import data as date time\n",
        "import pytz #Convert UTC to GMT+3\n",
        "import numpy as np\n",
        "import pandas as pd\n",
        "import plotly.graph_objects as go \n",
        "import matplotlib.pyplot as plt\n",
        "plt.style.use('seaborn')\n",
        "%matplotlib inline\n",
        "\n",
        "#Modelling\n",
        "from sklearn.model_selection import train_test_split\n",
        "from sklearn.metrics import classification_report\n",
        "from sklearn import svm\n",
        "from sklearn.preprocessing import MinMaxScaler\n",
        "from sklearn.impute import SimpleImputer"
      ],
      "execution_count": 0,
      "outputs": []
    },
    {
      "cell_type": "code",
      "metadata": {
        "id": "YhwUWYqjUIuZ",
        "colab_type": "code",
        "colab": {}
      },
      "source": [
        "## FXCM API - for importing currencies\n",
        "# API definition https://www.fxcm.com/fxcmpy/appendix.html\n",
        "!pip  install fxcmpy -q \n",
        "!pip install python-socketio -q \n",
        "import fxcmpy\n",
        "# api token/key\n",
        "api = fxcmpy.fxcmpy(config_file='fxcm.cfg')"
      ],
      "execution_count": 0,
      "outputs": []
    },
    {
      "cell_type": "code",
      "metadata": {
        "id": "DlN4yTAHNMyU",
        "colab_type": "code",
        "colab": {
          "base_uri": "https://localhost:8080/",
          "height": 34
        },
        "outputId": "4e6267fc-3ce6-4490-85c5-81dbd518d1c7"
      },
      "source": [
        "## Quandl API - for fundamanetal data import e.g interest rate, employment rate.\n",
        "# API Definition https://www.quandl.com/data/FRED-Federal-Reserve-Economic-Data/documentation\n",
        "!pip install quandl -q \n",
        "import quandl\n",
        "# api token/key\n",
        "quandl.ApiConfig.api_key = \"Y4Z_EXQ7qh7xxJhC8J6E\""
      ],
      "execution_count": 2,
      "outputs": [
        {
          "output_type": "stream",
          "text": [
            "  Building wheel for inflection (setup.py) ... \u001b[?25l\u001b[?25hdone\n"
          ],
          "name": "stdout"
        }
      ]
    },
    {
      "cell_type": "markdown",
      "metadata": {
        "id": "GARs-Wn8zP48",
        "colab_type": "text"
      },
      "source": [
        "### Import Bid and Ask Historical Data"
      ]
    },
    {
      "cell_type": "markdown",
      "metadata": {
        "id": "Fg-2PHbr2Qxs",
        "colab_type": "text"
      },
      "source": [
        "Import historical bid and ask currency prices data. Will import 10 data for 10 years for starters. If need be, the years will be increased to enhance model accuracy by providing more data to make it able to generalize better.\n",
        "\n",
        "Dataset is hourly candle data. Candle is a sample of the raw underlying tick data combined with some descriptive statistical information about the sample it self (tick count)"
      ]
    },
    {
      "cell_type": "code",
      "metadata": {
        "id": "Ub1DRyRx6bZV",
        "colab_type": "code",
        "outputId": "f6ef1889-2766-498e-8e9d-f54c89dc27d1",
        "colab": {
          "base_uri": "https://localhost:8080/",
          "height": 660
        }
      },
      "source": [
        "data_201920 = api.get_candles('USD/JPY', period = 'H1', start = dt.datetime(2019, 3, 30), stop = dt.datetime(2020, 3, 30))\n",
        "data_201819 = api.get_candles('USD/JPY', period = 'H1', start = dt.datetime(2018, 3, 30), stop = dt.datetime(2019, 3, 30))\n",
        "data_201718 = api.get_candles('USD/JPY', period = 'H1', start = dt.datetime(2017, 3, 30), stop = dt.datetime(2018, 3, 30))\n",
        "data_201617 = api.get_candles('USD/JPY', period = 'H1', start = dt.datetime(2016, 3, 30), stop = dt.datetime(2017, 3, 30))\n",
        "data_201516 = api.get_candles('USD/JPY', period = 'H1', start = dt.datetime(2015, 3, 30), stop = dt.datetime(2016, 3, 30))\n",
        "data_201415 = api.get_candles('USD/JPY', period = 'H1', start = dt.datetime(2014, 3, 30), stop = dt.datetime(2015, 3, 30))\n",
        "data_201314 = api.get_candles('USD/JPY', period = 'H1', start = dt.datetime(2013, 3, 30), stop = dt.datetime(2014, 3, 30))\n",
        "data_201213 = api.get_candles('USD/JPY', period = 'H1', start = dt.datetime(2012, 3, 30), stop = dt.datetime(2013, 3, 30))\n",
        "data_201112 = api.get_candles('USD/JPY', period = 'H1', start = dt.datetime(2011, 3, 30), stop = dt.datetime(2012, 3, 30))\n",
        "data_201011 = api.get_candles('USD/JPY', period = 'H1', start = dt.datetime(2010, 3, 30), stop = dt.datetime(2011, 3, 30))\n",
        "\n",
        "#Concatenate data for all the 10 years\n",
        "years_list = [data_201920, data_201819, data_201718, data_201617, data_201516, data_201415, data_201314, data_201213, data_201112, data_201011]\n",
        "df = pd.concat(years_list)\n",
        "\n",
        "#Print Count\n",
        "print(\"Count of hourly records per year \\n\")\n",
        "print(\"2019-2020 - \",len(data_201920))\n",
        "print(\"2018-2019 - \",len(data_201819))\n",
        "print(\"2017-2018 - \",len(data_201718))\n",
        "print(\"2016-2017 - \",len(data_201617))\n",
        "print(\"2015-2016 - \",len(data_201516))\n",
        "print(\"2014-2015 - \",len(data_201415))\n",
        "print(\"2013-2014 - \",len(data_201314))\n",
        "print(\"2012-2013 - \",len(data_201213))\n",
        "print(\"2011-2012 - \",len(data_201112))\n",
        "print(\"2010-2011 - \",len(data_201011))\n",
        "print(\"\\n Merged Data\",len(df))\n",
        "\n",
        "#View Sample\n",
        "print(\"\\n Sample Records From the DataFrame Before and After Time Conversion\")\n",
        "print(df.head(5)) # Before time convertsion\n",
        "df = df.tz_localize(\"UTC\").tz_convert('Africa/Nairobi').tz_localize(None)\n",
        "df.head(5)"
      ],
      "execution_count": 76,
      "outputs": [
        {
          "output_type": "stream",
          "text": [
            "Count of hourly records per year \n",
            "\n",
            "2019-2020 -  6300\n",
            "2018-2019 -  6315\n",
            "2017-2018 -  6331\n",
            "2016-2017 -  6331\n",
            "2015-2016 -  6360\n",
            "2014-2015 -  6304\n",
            "2013-2014 -  6295\n",
            "2012-2013 -  6217\n",
            "2011-2012 -  6281\n",
            "2010-2011 -  6247\n",
            "\n",
            " Merged Data 62981\n",
            "\n",
            " Sample Records From the DataFrame Before and After Time Conversion\n",
            "                     bidopen  bidclose  bidhigh  ...  askhigh   asklow  tickqty\n",
            "date                                             ...                           \n",
            "2019-03-31 18:00:00  110.847   110.954  110.993  ...  110.998  110.970      193\n",
            "2019-03-31 19:00:00  110.954   111.007  111.018  ...  111.030  110.974      215\n",
            "2019-03-31 20:00:00  111.007   111.013  111.091  ...  111.107  111.012      321\n",
            "2019-03-31 21:00:00  111.013   110.932  111.041  ...  111.086  110.893     1320\n",
            "2019-03-31 22:00:00  110.932   110.936  110.983  ...  110.999  110.911     7250\n",
            "\n",
            "[5 rows x 9 columns]\n"
          ],
          "name": "stdout"
        },
        {
          "output_type": "execute_result",
          "data": {
            "text/html": [
              "<div>\n",
              "<style scoped>\n",
              "    .dataframe tbody tr th:only-of-type {\n",
              "        vertical-align: middle;\n",
              "    }\n",
              "\n",
              "    .dataframe tbody tr th {\n",
              "        vertical-align: top;\n",
              "    }\n",
              "\n",
              "    .dataframe thead th {\n",
              "        text-align: right;\n",
              "    }\n",
              "</style>\n",
              "<table border=\"1\" class=\"dataframe\">\n",
              "  <thead>\n",
              "    <tr style=\"text-align: right;\">\n",
              "      <th></th>\n",
              "      <th>bidopen</th>\n",
              "      <th>bidclose</th>\n",
              "      <th>bidhigh</th>\n",
              "      <th>bidlow</th>\n",
              "      <th>askopen</th>\n",
              "      <th>askclose</th>\n",
              "      <th>askhigh</th>\n",
              "      <th>asklow</th>\n",
              "      <th>tickqty</th>\n",
              "    </tr>\n",
              "    <tr>\n",
              "      <th>date</th>\n",
              "      <th></th>\n",
              "      <th></th>\n",
              "      <th></th>\n",
              "      <th></th>\n",
              "      <th></th>\n",
              "      <th></th>\n",
              "      <th></th>\n",
              "      <th></th>\n",
              "      <th></th>\n",
              "    </tr>\n",
              "  </thead>\n",
              "  <tbody>\n",
              "    <tr>\n",
              "      <th>2019-03-31 21:00:00</th>\n",
              "      <td>110.847</td>\n",
              "      <td>110.954</td>\n",
              "      <td>110.993</td>\n",
              "      <td>110.923</td>\n",
              "      <td>110.886</td>\n",
              "      <td>110.993</td>\n",
              "      <td>110.998</td>\n",
              "      <td>110.970</td>\n",
              "      <td>193</td>\n",
              "    </tr>\n",
              "    <tr>\n",
              "      <th>2019-03-31 22:00:00</th>\n",
              "      <td>110.954</td>\n",
              "      <td>111.007</td>\n",
              "      <td>111.018</td>\n",
              "      <td>110.940</td>\n",
              "      <td>110.993</td>\n",
              "      <td>111.012</td>\n",
              "      <td>111.030</td>\n",
              "      <td>110.974</td>\n",
              "      <td>215</td>\n",
              "    </tr>\n",
              "    <tr>\n",
              "      <th>2019-03-31 23:00:00</th>\n",
              "      <td>111.007</td>\n",
              "      <td>111.013</td>\n",
              "      <td>111.091</td>\n",
              "      <td>110.987</td>\n",
              "      <td>111.012</td>\n",
              "      <td>111.074</td>\n",
              "      <td>111.107</td>\n",
              "      <td>111.012</td>\n",
              "      <td>321</td>\n",
              "    </tr>\n",
              "    <tr>\n",
              "      <th>2019-04-01 00:00:00</th>\n",
              "      <td>111.013</td>\n",
              "      <td>110.932</td>\n",
              "      <td>111.041</td>\n",
              "      <td>110.878</td>\n",
              "      <td>111.074</td>\n",
              "      <td>110.965</td>\n",
              "      <td>111.086</td>\n",
              "      <td>110.893</td>\n",
              "      <td>1320</td>\n",
              "    </tr>\n",
              "    <tr>\n",
              "      <th>2019-04-01 01:00:00</th>\n",
              "      <td>110.932</td>\n",
              "      <td>110.936</td>\n",
              "      <td>110.983</td>\n",
              "      <td>110.897</td>\n",
              "      <td>110.965</td>\n",
              "      <td>110.950</td>\n",
              "      <td>110.999</td>\n",
              "      <td>110.911</td>\n",
              "      <td>7250</td>\n",
              "    </tr>\n",
              "  </tbody>\n",
              "</table>\n",
              "</div>"
            ],
            "text/plain": [
              "                     bidopen  bidclose  bidhigh  ...  askhigh   asklow  tickqty\n",
              "date                                             ...                           \n",
              "2019-03-31 21:00:00  110.847   110.954  110.993  ...  110.998  110.970      193\n",
              "2019-03-31 22:00:00  110.954   111.007  111.018  ...  111.030  110.974      215\n",
              "2019-03-31 23:00:00  111.007   111.013  111.091  ...  111.107  111.012      321\n",
              "2019-04-01 00:00:00  111.013   110.932  111.041  ...  111.086  110.893     1320\n",
              "2019-04-01 01:00:00  110.932   110.936  110.983  ...  110.999  110.911     7250\n",
              "\n",
              "[5 rows x 9 columns]"
            ]
          },
          "metadata": {
            "tags": []
          },
          "execution_count": 76
        }
      ]
    },
    {
      "cell_type": "markdown",
      "metadata": {
        "id": "MuLyqS5tqR2Q",
        "colab_type": "text"
      },
      "source": [
        "Each row represents a candle of data for a single hour per day for USD/JPY currency pair.\n",
        "\n",
        "a) Date - Date and hour. Date is originally in UTC/GMT. It's converted to GMT+3 local time\n",
        "\n",
        "b) BID PRICES - Price that retailer trader sells at\n",
        "\n",
        "- Bid open - price at the start of the candle\n",
        "\n",
        "- Bid close - price at the end of the candle\n",
        "\n",
        "- Bid high - highest price during the candle window\n",
        "\n",
        "- Bid low - lowest price during the candle window\n",
        "\n",
        "c) ASK PRICES - Price that retailer trader buys at\n",
        "\n",
        "- Ask open - price at the start of the candle\n",
        "\n",
        "- Ask close - price at the end of the candle\n",
        "\n",
        "- Ask high - highest price during the candle window\n",
        "\n",
        "- Ask low - lowest price during the candle window\n",
        "\n",
        "d) Ticket Qty -  number of price changes that occured within the candle boundaries. It does not tell when the changes occured or how big or small the changes were."
      ]
    },
    {
      "cell_type": "code",
      "metadata": {
        "id": "FLsiMpMmYrno",
        "colab_type": "code",
        "colab": {
          "base_uri": "https://localhost:8080/",
          "height": 297
        },
        "outputId": "a3835b1d-24a3-40d7-a8c2-b4f65b7d1f9b"
      },
      "source": [
        "df.describe()"
      ],
      "execution_count": 9,
      "outputs": [
        {
          "output_type": "execute_result",
          "data": {
            "text/html": [
              "<div>\n",
              "<style scoped>\n",
              "    .dataframe tbody tr th:only-of-type {\n",
              "        vertical-align: middle;\n",
              "    }\n",
              "\n",
              "    .dataframe tbody tr th {\n",
              "        vertical-align: top;\n",
              "    }\n",
              "\n",
              "    .dataframe thead th {\n",
              "        text-align: right;\n",
              "    }\n",
              "</style>\n",
              "<table border=\"1\" class=\"dataframe\">\n",
              "  <thead>\n",
              "    <tr style=\"text-align: right;\">\n",
              "      <th></th>\n",
              "      <th>bidopen</th>\n",
              "      <th>bidclose</th>\n",
              "      <th>bidhigh</th>\n",
              "      <th>bidlow</th>\n",
              "      <th>askopen</th>\n",
              "      <th>askclose</th>\n",
              "      <th>askhigh</th>\n",
              "      <th>asklow</th>\n",
              "      <th>tickqty</th>\n",
              "    </tr>\n",
              "  </thead>\n",
              "  <tbody>\n",
              "    <tr>\n",
              "      <th>count</th>\n",
              "      <td>62981.000000</td>\n",
              "      <td>62981.000000</td>\n",
              "      <td>62981.000000</td>\n",
              "      <td>62981.000000</td>\n",
              "      <td>62981.000000</td>\n",
              "      <td>62981.000000</td>\n",
              "      <td>62981.000000</td>\n",
              "      <td>62981.000000</td>\n",
              "      <td>62981.000000</td>\n",
              "    </tr>\n",
              "    <tr>\n",
              "      <th>mean</th>\n",
              "      <td>101.711437</td>\n",
              "      <td>101.711665</td>\n",
              "      <td>101.788197</td>\n",
              "      <td>101.632136</td>\n",
              "      <td>101.727060</td>\n",
              "      <td>101.727287</td>\n",
              "      <td>101.802874</td>\n",
              "      <td>101.647278</td>\n",
              "      <td>7700.089503</td>\n",
              "    </tr>\n",
              "    <tr>\n",
              "      <th>std</th>\n",
              "      <td>13.966758</td>\n",
              "      <td>13.966725</td>\n",
              "      <td>13.973681</td>\n",
              "      <td>13.959091</td>\n",
              "      <td>13.967255</td>\n",
              "      <td>13.967223</td>\n",
              "      <td>13.974333</td>\n",
              "      <td>13.959214</td>\n",
              "      <td>8652.604880</td>\n",
              "    </tr>\n",
              "    <tr>\n",
              "      <th>min</th>\n",
              "      <td>75.671000</td>\n",
              "      <td>75.671000</td>\n",
              "      <td>75.746000</td>\n",
              "      <td>75.559000</td>\n",
              "      <td>75.705000</td>\n",
              "      <td>75.705000</td>\n",
              "      <td>75.759000</td>\n",
              "      <td>75.575000</td>\n",
              "      <td>1.000000</td>\n",
              "    </tr>\n",
              "    <tr>\n",
              "      <th>25%</th>\n",
              "      <td>88.504000</td>\n",
              "      <td>88.504000</td>\n",
              "      <td>88.576000</td>\n",
              "      <td>88.397000</td>\n",
              "      <td>88.518000</td>\n",
              "      <td>88.518000</td>\n",
              "      <td>88.589000</td>\n",
              "      <td>88.413000</td>\n",
              "      <td>2204.000000</td>\n",
              "    </tr>\n",
              "    <tr>\n",
              "      <th>50%</th>\n",
              "      <td>106.290000</td>\n",
              "      <td>106.290000</td>\n",
              "      <td>106.374000</td>\n",
              "      <td>106.209000</td>\n",
              "      <td>106.305000</td>\n",
              "      <td>106.305000</td>\n",
              "      <td>106.389000</td>\n",
              "      <td>106.226000</td>\n",
              "      <td>5222.000000</td>\n",
              "    </tr>\n",
              "    <tr>\n",
              "      <th>75%</th>\n",
              "      <td>111.728000</td>\n",
              "      <td>111.728000</td>\n",
              "      <td>111.795000</td>\n",
              "      <td>111.661000</td>\n",
              "      <td>111.743000</td>\n",
              "      <td>111.743000</td>\n",
              "      <td>111.810000</td>\n",
              "      <td>111.676000</td>\n",
              "      <td>10288.000000</td>\n",
              "    </tr>\n",
              "    <tr>\n",
              "      <th>max</th>\n",
              "      <td>125.676000</td>\n",
              "      <td>125.676000</td>\n",
              "      <td>125.850000</td>\n",
              "      <td>125.602000</td>\n",
              "      <td>125.689000</td>\n",
              "      <td>125.689000</td>\n",
              "      <td>125.864000</td>\n",
              "      <td>125.617000</td>\n",
              "      <td>171038.000000</td>\n",
              "    </tr>\n",
              "  </tbody>\n",
              "</table>\n",
              "</div>"
            ],
            "text/plain": [
              "            bidopen      bidclose  ...        asklow        tickqty\n",
              "count  62981.000000  62981.000000  ...  62981.000000   62981.000000\n",
              "mean     101.711437    101.711665  ...    101.647278    7700.089503\n",
              "std       13.966758     13.966725  ...     13.959214    8652.604880\n",
              "min       75.671000     75.671000  ...     75.575000       1.000000\n",
              "25%       88.504000     88.504000  ...     88.413000    2204.000000\n",
              "50%      106.290000    106.290000  ...    106.226000    5222.000000\n",
              "75%      111.728000    111.728000  ...    111.676000   10288.000000\n",
              "max      125.676000    125.676000  ...    125.617000  171038.000000\n",
              "\n",
              "[8 rows x 9 columns]"
            ]
          },
          "metadata": {
            "tags": []
          },
          "execution_count": 9
        }
      ]
    },
    {
      "cell_type": "markdown",
      "metadata": {
        "id": "Z0699KC_2TnX",
        "colab_type": "text"
      },
      "source": [
        "### Interest Rates"
      ]
    },
    {
      "cell_type": "code",
      "metadata": {
        "id": "sFpvOIB45ay8",
        "colab_type": "code",
        "outputId": "126d2ef1-bf7d-4953-e23a-a5a6f622030a",
        "colab": {
          "base_uri": "https://localhost:8080/",
          "height": 235
        }
      },
      "source": [
        "# Read US Interest rates from quandl for the last 10 years\n",
        "# API frequency is daily\n",
        "v_start_date = '2010-03-30'\n",
        "v_end_date = '2020-03-30'\n",
        "df_US_Interest_Rates = quandl.get(\"FRED/DFF\", start_date=v_start_date, end_date=v_end_date,timezone='GMT+3')\n",
        "df_US_Interest_Rates.columns = df_US_Interest_Rates.columns.str.replace('Value', 'US_Monthly_Interest_Rate')\n",
        "df_JPY_Interest_Rates = quandl.get(\"MOFJ/INTEREST_RATE_JAPAN_40Y\", start_date=v_start_date, end_date=v_end_date,timezone='GMT+3')\n",
        "df_JPY_Interest_Rates.columns = df_JPY_Interest_Rates.columns.str.replace('Value', 'JPY_Monthly_Interest_Rate')\n",
        "\n",
        "#Create transaction date from index\n",
        "df['Transaction_Date'] = df.index.strftime('%Y-%m-%d')\n",
        "df['Candle_Date'] = df.index\n",
        "df_US_Interest_Rates['Transaction_Date']  = df_US_Interest_Rates.index.strftime('%Y-%m-%d')\n",
        "df_JPY_Interest_Rates['Transaction_Date']  = df_JPY_Interest_Rates.index.strftime('%Y-%m-%d')\n",
        "\n",
        "df_JPY_Interest_Rates[0:5]"
      ],
      "execution_count": 77,
      "outputs": [
        {
          "output_type": "execute_result",
          "data": {
            "text/html": [
              "<div>\n",
              "<style scoped>\n",
              "    .dataframe tbody tr th:only-of-type {\n",
              "        vertical-align: middle;\n",
              "    }\n",
              "\n",
              "    .dataframe tbody tr th {\n",
              "        vertical-align: top;\n",
              "    }\n",
              "\n",
              "    .dataframe thead th {\n",
              "        text-align: right;\n",
              "    }\n",
              "</style>\n",
              "<table border=\"1\" class=\"dataframe\">\n",
              "  <thead>\n",
              "    <tr style=\"text-align: right;\">\n",
              "      <th></th>\n",
              "      <th>JPY_Monthly_Interest_Rate</th>\n",
              "      <th>Transaction_Date</th>\n",
              "    </tr>\n",
              "    <tr>\n",
              "      <th>Date</th>\n",
              "      <th></th>\n",
              "      <th></th>\n",
              "    </tr>\n",
              "  </thead>\n",
              "  <tbody>\n",
              "    <tr>\n",
              "      <th>2010-03-30</th>\n",
              "      <td>2.320</td>\n",
              "      <td>2010-03-30</td>\n",
              "    </tr>\n",
              "    <tr>\n",
              "      <th>2010-03-31</th>\n",
              "      <td>2.308</td>\n",
              "      <td>2010-03-31</td>\n",
              "    </tr>\n",
              "    <tr>\n",
              "      <th>2010-04-01</th>\n",
              "      <td>2.285</td>\n",
              "      <td>2010-04-01</td>\n",
              "    </tr>\n",
              "    <tr>\n",
              "      <th>2010-04-02</th>\n",
              "      <td>2.258</td>\n",
              "      <td>2010-04-02</td>\n",
              "    </tr>\n",
              "    <tr>\n",
              "      <th>2010-04-05</th>\n",
              "      <td>2.259</td>\n",
              "      <td>2010-04-05</td>\n",
              "    </tr>\n",
              "  </tbody>\n",
              "</table>\n",
              "</div>"
            ],
            "text/plain": [
              "            JPY_Monthly_Interest_Rate Transaction_Date\n",
              "Date                                                  \n",
              "2010-03-30                      2.320       2010-03-30\n",
              "2010-03-31                      2.308       2010-03-31\n",
              "2010-04-01                      2.285       2010-04-01\n",
              "2010-04-02                      2.258       2010-04-02\n",
              "2010-04-05                      2.259       2010-04-05"
            ]
          },
          "metadata": {
            "tags": []
          },
          "execution_count": 77
        }
      ]
    },
    {
      "cell_type": "code",
      "metadata": {
        "id": "-M1GFNMZ71Z6",
        "colab_type": "code",
        "colab": {
          "base_uri": "https://localhost:8080/",
          "height": 34
        },
        "outputId": "cfdb9bb8-c65c-4030-b7fc-b1ccac2278b0"
      },
      "source": [
        "# Check length of Japanese versus US interest rates\n",
        "print(len(df_JPY_Interest_Rates), len(df_US_Interest_Rates))"
      ],
      "execution_count": 67,
      "outputs": [
        {
          "output_type": "stream",
          "text": [
            "2448 3654\n"
          ],
          "name": "stdout"
        }
      ]
    },
    {
      "cell_type": "markdown",
      "metadata": {
        "id": "k6GcJBB_86dz",
        "colab_type": "text"
      },
      "source": [
        "Some Japanese interest rates missing compared to US interest rates. Imputation to be preferred based on nearest neigbour"
      ]
    },
    {
      "cell_type": "markdown",
      "metadata": {
        "id": "4L1di0Tm9dIX",
        "colab_type": "text"
      },
      "source": [
        "### Merge Currency and Interest Data"
      ]
    },
    {
      "cell_type": "code",
      "metadata": {
        "id": "NTzT7_nq6kof",
        "colab_type": "code",
        "outputId": "6829b1cf-4943-4508-f703-c8fb5868c5af",
        "colab": {
          "base_uri": "https://localhost:8080/",
          "height": 173
        }
      },
      "source": [
        "# Merge Dataframe and  US interest rates\n",
        "df = df.merge(df_US_Interest_Rates,on='Transaction_Date',how='left')\n",
        "df.set_index(\"Candle_Date\", inplace = True) \n",
        "df[0:3]"
      ],
      "execution_count": 78,
      "outputs": [
        {
          "output_type": "execute_result",
          "data": {
            "text/html": [
              "<div>\n",
              "<style scoped>\n",
              "    .dataframe tbody tr th:only-of-type {\n",
              "        vertical-align: middle;\n",
              "    }\n",
              "\n",
              "    .dataframe tbody tr th {\n",
              "        vertical-align: top;\n",
              "    }\n",
              "\n",
              "    .dataframe thead th {\n",
              "        text-align: right;\n",
              "    }\n",
              "</style>\n",
              "<table border=\"1\" class=\"dataframe\">\n",
              "  <thead>\n",
              "    <tr style=\"text-align: right;\">\n",
              "      <th></th>\n",
              "      <th>bidopen</th>\n",
              "      <th>bidclose</th>\n",
              "      <th>bidhigh</th>\n",
              "      <th>bidlow</th>\n",
              "      <th>askopen</th>\n",
              "      <th>askclose</th>\n",
              "      <th>askhigh</th>\n",
              "      <th>asklow</th>\n",
              "      <th>tickqty</th>\n",
              "      <th>Transaction_Date</th>\n",
              "      <th>US_Monthly_Interest_Rate</th>\n",
              "    </tr>\n",
              "    <tr>\n",
              "      <th>Candle_Date</th>\n",
              "      <th></th>\n",
              "      <th></th>\n",
              "      <th></th>\n",
              "      <th></th>\n",
              "      <th></th>\n",
              "      <th></th>\n",
              "      <th></th>\n",
              "      <th></th>\n",
              "      <th></th>\n",
              "      <th></th>\n",
              "      <th></th>\n",
              "    </tr>\n",
              "  </thead>\n",
              "  <tbody>\n",
              "    <tr>\n",
              "      <th>2019-03-31 21:00:00</th>\n",
              "      <td>110.847</td>\n",
              "      <td>110.954</td>\n",
              "      <td>110.993</td>\n",
              "      <td>110.923</td>\n",
              "      <td>110.886</td>\n",
              "      <td>110.993</td>\n",
              "      <td>110.998</td>\n",
              "      <td>110.970</td>\n",
              "      <td>193</td>\n",
              "      <td>2019-03-31</td>\n",
              "      <td>2.43</td>\n",
              "    </tr>\n",
              "    <tr>\n",
              "      <th>2019-03-31 22:00:00</th>\n",
              "      <td>110.954</td>\n",
              "      <td>111.007</td>\n",
              "      <td>111.018</td>\n",
              "      <td>110.940</td>\n",
              "      <td>110.993</td>\n",
              "      <td>111.012</td>\n",
              "      <td>111.030</td>\n",
              "      <td>110.974</td>\n",
              "      <td>215</td>\n",
              "      <td>2019-03-31</td>\n",
              "      <td>2.43</td>\n",
              "    </tr>\n",
              "    <tr>\n",
              "      <th>2019-03-31 23:00:00</th>\n",
              "      <td>111.007</td>\n",
              "      <td>111.013</td>\n",
              "      <td>111.091</td>\n",
              "      <td>110.987</td>\n",
              "      <td>111.012</td>\n",
              "      <td>111.074</td>\n",
              "      <td>111.107</td>\n",
              "      <td>111.012</td>\n",
              "      <td>321</td>\n",
              "      <td>2019-03-31</td>\n",
              "      <td>2.43</td>\n",
              "    </tr>\n",
              "  </tbody>\n",
              "</table>\n",
              "</div>"
            ],
            "text/plain": [
              "                     bidopen  ...  US_Monthly_Interest_Rate\n",
              "Candle_Date                   ...                          \n",
              "2019-03-31 21:00:00  110.847  ...                      2.43\n",
              "2019-03-31 22:00:00  110.954  ...                      2.43\n",
              "2019-03-31 23:00:00  111.007  ...                      2.43\n",
              "\n",
              "[3 rows x 11 columns]"
            ]
          },
          "metadata": {
            "tags": []
          },
          "execution_count": 78
        }
      ]
    },
    {
      "cell_type": "code",
      "metadata": {
        "id": "EmlBHOrN3Pow",
        "colab_type": "code",
        "outputId": "a98804e6-d6e7-469f-88cd-12efbe562a2b",
        "colab": {
          "base_uri": "https://localhost:8080/",
          "height": 173
        }
      },
      "source": [
        "# Merge Dataframe and  Japan interest rates\n",
        "df['Candle_Date'] = df.index\n",
        "df = df.merge(df_JPY_Interest_Rates,on='Transaction_Date',how='left')\n",
        "df.set_index(\"Candle_Date\", inplace = True) \n",
        "df[0:3]"
      ],
      "execution_count": 79,
      "outputs": [
        {
          "output_type": "execute_result",
          "data": {
            "text/html": [
              "<div>\n",
              "<style scoped>\n",
              "    .dataframe tbody tr th:only-of-type {\n",
              "        vertical-align: middle;\n",
              "    }\n",
              "\n",
              "    .dataframe tbody tr th {\n",
              "        vertical-align: top;\n",
              "    }\n",
              "\n",
              "    .dataframe thead th {\n",
              "        text-align: right;\n",
              "    }\n",
              "</style>\n",
              "<table border=\"1\" class=\"dataframe\">\n",
              "  <thead>\n",
              "    <tr style=\"text-align: right;\">\n",
              "      <th></th>\n",
              "      <th>bidopen</th>\n",
              "      <th>bidclose</th>\n",
              "      <th>bidhigh</th>\n",
              "      <th>bidlow</th>\n",
              "      <th>askopen</th>\n",
              "      <th>askclose</th>\n",
              "      <th>askhigh</th>\n",
              "      <th>asklow</th>\n",
              "      <th>tickqty</th>\n",
              "      <th>Transaction_Date</th>\n",
              "      <th>US_Monthly_Interest_Rate</th>\n",
              "      <th>JPY_Monthly_Interest_Rate</th>\n",
              "    </tr>\n",
              "    <tr>\n",
              "      <th>Candle_Date</th>\n",
              "      <th></th>\n",
              "      <th></th>\n",
              "      <th></th>\n",
              "      <th></th>\n",
              "      <th></th>\n",
              "      <th></th>\n",
              "      <th></th>\n",
              "      <th></th>\n",
              "      <th></th>\n",
              "      <th></th>\n",
              "      <th></th>\n",
              "      <th></th>\n",
              "    </tr>\n",
              "  </thead>\n",
              "  <tbody>\n",
              "    <tr>\n",
              "      <th>2019-03-31 21:00:00</th>\n",
              "      <td>110.847</td>\n",
              "      <td>110.954</td>\n",
              "      <td>110.993</td>\n",
              "      <td>110.923</td>\n",
              "      <td>110.886</td>\n",
              "      <td>110.993</td>\n",
              "      <td>110.998</td>\n",
              "      <td>110.970</td>\n",
              "      <td>193</td>\n",
              "      <td>2019-03-31</td>\n",
              "      <td>2.43</td>\n",
              "      <td>NaN</td>\n",
              "    </tr>\n",
              "    <tr>\n",
              "      <th>2019-03-31 22:00:00</th>\n",
              "      <td>110.954</td>\n",
              "      <td>111.007</td>\n",
              "      <td>111.018</td>\n",
              "      <td>110.940</td>\n",
              "      <td>110.993</td>\n",
              "      <td>111.012</td>\n",
              "      <td>111.030</td>\n",
              "      <td>110.974</td>\n",
              "      <td>215</td>\n",
              "      <td>2019-03-31</td>\n",
              "      <td>2.43</td>\n",
              "      <td>NaN</td>\n",
              "    </tr>\n",
              "    <tr>\n",
              "      <th>2019-03-31 23:00:00</th>\n",
              "      <td>111.007</td>\n",
              "      <td>111.013</td>\n",
              "      <td>111.091</td>\n",
              "      <td>110.987</td>\n",
              "      <td>111.012</td>\n",
              "      <td>111.074</td>\n",
              "      <td>111.107</td>\n",
              "      <td>111.012</td>\n",
              "      <td>321</td>\n",
              "      <td>2019-03-31</td>\n",
              "      <td>2.43</td>\n",
              "      <td>NaN</td>\n",
              "    </tr>\n",
              "  </tbody>\n",
              "</table>\n",
              "</div>"
            ],
            "text/plain": [
              "                     bidopen  ...  JPY_Monthly_Interest_Rate\n",
              "Candle_Date                   ...                           \n",
              "2019-03-31 21:00:00  110.847  ...                        NaN\n",
              "2019-03-31 22:00:00  110.954  ...                        NaN\n",
              "2019-03-31 23:00:00  111.007  ...                        NaN\n",
              "\n",
              "[3 rows x 12 columns]"
            ]
          },
          "metadata": {
            "tags": []
          },
          "execution_count": 79
        }
      ]
    },
    {
      "cell_type": "markdown",
      "metadata": {
        "id": "cwuftLP2NsKk",
        "colab_type": "text"
      },
      "source": [
        "### Unemployment rates"
      ]
    },
    {
      "cell_type": "code",
      "metadata": {
        "id": "MROKRITTADDA",
        "colab_type": "code",
        "outputId": "32049cf1-e438-4b30-829d-9541ecaf9c08",
        "colab": {
          "base_uri": "https://localhost:8080/",
          "height": 386
        }
      },
      "source": [
        "#  % of Total Labor Force. API Frequency is annual. \n",
        "US_Unemployment_percent = quandl.get(\"ODA/JPN_LUR\", start_date=v_start_date, end_date=v_end_date)\n",
        "JPY_Unemployment_percent = quandl.get(\"ODA/USA_LUR\", start_date=v_start_date, end_date=v_end_date)\n",
        "# quandl.get(\"ODA/USA_LUR\", authtoken=\"Y4Z_EXQ7qh7xxJhC8J6E\")\n",
        "US_Unemployment_percent"
      ],
      "execution_count": 0,
      "outputs": [
        {
          "output_type": "execute_result",
          "data": {
            "text/html": [
              "<div>\n",
              "<style scoped>\n",
              "    .dataframe tbody tr th:only-of-type {\n",
              "        vertical-align: middle;\n",
              "    }\n",
              "\n",
              "    .dataframe tbody tr th {\n",
              "        vertical-align: top;\n",
              "    }\n",
              "\n",
              "    .dataframe thead th {\n",
              "        text-align: right;\n",
              "    }\n",
              "</style>\n",
              "<table border=\"1\" class=\"dataframe\">\n",
              "  <thead>\n",
              "    <tr style=\"text-align: right;\">\n",
              "      <th></th>\n",
              "      <th>Value</th>\n",
              "    </tr>\n",
              "    <tr>\n",
              "      <th>Date</th>\n",
              "      <th></th>\n",
              "    </tr>\n",
              "  </thead>\n",
              "  <tbody>\n",
              "    <tr>\n",
              "      <th>2010-12-31</th>\n",
              "      <td>5.058</td>\n",
              "    </tr>\n",
              "    <tr>\n",
              "      <th>2011-12-31</th>\n",
              "      <td>4.583</td>\n",
              "    </tr>\n",
              "    <tr>\n",
              "      <th>2012-12-31</th>\n",
              "      <td>4.325</td>\n",
              "    </tr>\n",
              "    <tr>\n",
              "      <th>2013-12-31</th>\n",
              "      <td>4.008</td>\n",
              "    </tr>\n",
              "    <tr>\n",
              "      <th>2014-12-31</th>\n",
              "      <td>3.583</td>\n",
              "    </tr>\n",
              "    <tr>\n",
              "      <th>2015-12-31</th>\n",
              "      <td>3.375</td>\n",
              "    </tr>\n",
              "    <tr>\n",
              "      <th>2016-12-31</th>\n",
              "      <td>3.108</td>\n",
              "    </tr>\n",
              "    <tr>\n",
              "      <th>2017-12-31</th>\n",
              "      <td>2.817</td>\n",
              "    </tr>\n",
              "    <tr>\n",
              "      <th>2018-12-31</th>\n",
              "      <td>2.442</td>\n",
              "    </tr>\n",
              "    <tr>\n",
              "      <th>2019-12-31</th>\n",
              "      <td>2.433</td>\n",
              "    </tr>\n",
              "  </tbody>\n",
              "</table>\n",
              "</div>"
            ],
            "text/plain": [
              "            Value\n",
              "Date             \n",
              "2010-12-31  5.058\n",
              "2011-12-31  4.583\n",
              "2012-12-31  4.325\n",
              "2013-12-31  4.008\n",
              "2014-12-31  3.583\n",
              "2015-12-31  3.375\n",
              "2016-12-31  3.108\n",
              "2017-12-31  2.817\n",
              "2018-12-31  2.442\n",
              "2019-12-31  2.433"
            ]
          },
          "metadata": {
            "tags": []
          },
          "execution_count": 10
        }
      ]
    },
    {
      "cell_type": "markdown",
      "metadata": {
        "id": "I1LZuKcCGTFH",
        "colab_type": "text"
      },
      "source": [
        "## Feature Engineering"
      ]
    },
    {
      "cell_type": "code",
      "metadata": {
        "id": "fDt1Wn4IGj67",
        "colab_type": "code",
        "colab": {}
      },
      "source": [
        "##Spread\n",
        "#A spread is the price difference between where a trader may purchase or sell an underlying asset. \n",
        "df['spread']= df['askclose'] - df['bidclose']\n",
        "\n",
        "## Bid Close Return\n",
        "# References: https://quant.stackexchange.com/questions/21092/calculating-log-returns-across-multiple-securities-and-time , https://stackoverflow.com/questions/31742545/python-calculating-log-returns-of-a-time-series\n",
        "# NB: In Quantitative Finance, doing your math in log-returns considered good manners\n",
        "df['bid_close_return'] = np.log(df['bidclose']/df['bidclose'].shift(1))\n",
        "\n",
        "## Bid Close Up or Down\n",
        "#Was the bid close price up or down\n",
        "df['bid_close_up_down'] = np.where(df['bid_close_return'] >0 ,1,0) # Bid Close went up or down?\n",
        "\n",
        "##Simple Moving Average\n",
        "df['bid_close_rolling_mean_1'] = df['bidclose'].rolling(window=20).mean()\n",
        "df['bid_close_rolling_mean_2'] = df['bidclose'].rolling(window=50).mean()\n",
        "\n",
        "## Bid High Return\n",
        "# References: https://quant.stackexchange.com/questions/21092/calculating-log-returns-across-multiple-securities-and-time , https://stackoverflow.com/questions/31742545/python-calculating-log-returns-of-a-time-series\n",
        "# NB: In Quantitative Finance, doing your math in log-returns considered good manners\n",
        "df['bid_high_return'] = np.log(df['bidhigh']/df['bidhigh'].shift(1))\n",
        "\n",
        "## Bid Close Up or Down\n",
        "#Was the bid close price up or down\n",
        "df['bid_high_up_down'] = np.where(df['bid_high_return'] >0 ,1,0) # Bid Close went up or down?\n",
        "\n",
        "##Simple Moving Average\n",
        "df['bid_high_rolling_mean_1'] = df['bidhigh'].rolling(window=20).mean()\n",
        "df['bid_high_rolling_mean_2'] = df['bidhigh'].rolling(window=50).mean()\n",
        "\n",
        "df['bid_high_next'] = df['bidhigh'].shift(1)"
      ],
      "execution_count": 0,
      "outputs": []
    },
    {
      "cell_type": "code",
      "metadata": {
        "id": "khwrNM9smOt0",
        "colab_type": "code",
        "colab": {}
      },
      "source": [
        "df = df.drop(['Transaction_Date','JPY_Monthly_Interest_Rate'], axis=1)\n",
        "df[0:10]"
      ],
      "execution_count": 0,
      "outputs": []
    },
    {
      "cell_type": "markdown",
      "metadata": {
        "id": "uiqMelh2uyyA",
        "colab_type": "text"
      },
      "source": [
        "## Exploratory Data Analysis"
      ]
    },
    {
      "cell_type": "markdown",
      "metadata": {
        "id": "EqTVla-8u7eP",
        "colab_type": "text"
      },
      "source": [
        "### Data Cleaning"
      ]
    },
    {
      "cell_type": "markdown",
      "metadata": {
        "id": "8VLxVow-IZkO",
        "colab_type": "text"
      },
      "source": [
        "a) Missing records"
      ]
    },
    {
      "cell_type": "code",
      "metadata": {
        "id": "2nTl151su19u",
        "colab_type": "code",
        "colab": {}
      },
      "source": [
        "#Drop columns with null values\n",
        "df = df.dropna()"
      ],
      "execution_count": 0,
      "outputs": []
    },
    {
      "cell_type": "code",
      "metadata": {
        "id": "hqnIu-BVLRp3",
        "colab_type": "code",
        "colab": {}
      },
      "source": [
        "df.info()"
      ],
      "execution_count": 0,
      "outputs": []
    },
    {
      "cell_type": "markdown",
      "metadata": {
        "id": "gyF7603VIbiG",
        "colab_type": "text"
      },
      "source": [
        "b) Duplicate records"
      ]
    },
    {
      "cell_type": "code",
      "metadata": {
        "id": "P_E_uNcRu3xr",
        "colab_type": "code",
        "colab": {}
      },
      "source": [
        "pass"
      ],
      "execution_count": 0,
      "outputs": []
    },
    {
      "cell_type": "markdown",
      "metadata": {
        "id": "-ICPQuwIIeVG",
        "colab_type": "text"
      },
      "source": [
        "c) Outliers"
      ]
    },
    {
      "cell_type": "code",
      "metadata": {
        "id": "9y9p4_PkIfQo",
        "colab_type": "code",
        "colab": {}
      },
      "source": [
        "pass"
      ],
      "execution_count": 0,
      "outputs": []
    },
    {
      "cell_type": "markdown",
      "metadata": {
        "id": "7pmxQ30cIhGi",
        "colab_type": "text"
      },
      "source": [
        "###  Univariate Analysis"
      ]
    },
    {
      "cell_type": "code",
      "metadata": {
        "id": "JX9AjQiNRPfa",
        "colab_type": "code",
        "colab": {}
      },
      "source": [
        "df['bidclose'].plot()\n",
        "plt.title(\"Bid Close \")\n",
        "plt.show()\n",
        "\n",
        "df['Bid_Close_rolling_mean_2'].plot()\n",
        "plt.title(\"Bid Close Rolling Mean \")\n",
        "plt.show()"
      ],
      "execution_count": 0,
      "outputs": []
    },
    {
      "cell_type": "code",
      "metadata": {
        "id": "awi4NpSPIgHt",
        "colab_type": "code",
        "colab": {}
      },
      "source": [
        "#Create Plot\n",
        "fig = go.Figure(data=[go.Candlestick(x=df.index,open=df['bidopen'],high=df['bidhigh'],low=df['bidlow'],close=df['bidclose'])])\n",
        "#Specify title and y axis\n",
        "fig.update_layout( title='Forex Pricing Patterns for last 10 years',yaxis_title='Price',xaxis_title='Year')\n",
        "pio.write_html(fig, file='../forex.html')\n",
        "fig.show(renderer = \"colab\",auto_open=True)\n",
        "# fig.write_html('tmp.html', auto_open=True)"
      ],
      "execution_count": 0,
      "outputs": []
    },
    {
      "cell_type": "markdown",
      "metadata": {
        "id": "Y4Ah0QFxM1DA",
        "colab_type": "text"
      },
      "source": [
        "Price was lowest in 2012 and highest in 2016\n"
      ]
    },
    {
      "cell_type": "markdown",
      "metadata": {
        "id": "Da78Dq1fj__t",
        "colab_type": "text"
      },
      "source": [
        "## Bivariate Analysis"
      ]
    },
    {
      "cell_type": "markdown",
      "metadata": {
        "id": "tLKtVIIMj3pZ",
        "colab_type": "text"
      },
      "source": [
        "## Multivariate Analysis"
      ]
    },
    {
      "cell_type": "markdown",
      "metadata": {
        "id": "hkC41ts6j7O1",
        "colab_type": "text"
      },
      "source": [
        "## Pre-Modelling Steps"
      ]
    },
    {
      "cell_type": "markdown",
      "metadata": {
        "id": "_2QpvX1zkLQ5",
        "colab_type": "text"
      },
      "source": [
        "a) Normality Test"
      ]
    },
    {
      "cell_type": "markdown",
      "metadata": {
        "id": "lmXu82J909UG",
        "colab_type": "text"
      },
      "source": [
        "b) Scaling and train test split"
      ]
    },
    {
      "cell_type": "code",
      "metadata": {
        "id": "0l5fvx6eLksr",
        "colab_type": "code",
        "colab": {}
      },
      "source": [
        "df.columns"
      ],
      "execution_count": 0,
      "outputs": []
    },
    {
      "cell_type": "code",
      "metadata": {
        "colab_type": "code",
        "id": "VieOHWCc_bkw",
        "colab": {}
      },
      "source": [
        "columns = ['bidopen', 'bidclose', 'bidhigh', 'bidlow', 'askopen', 'askclose','askhigh', 'asklow', 'tickqty', \n",
        "           'US_Monthly_Interest_Rate', 'spread','bid_close_return', 'bid_close_up_down', 'bid_close_rolling_mean_1',\n",
        "       'bid_close_rolling_mean_2','bid_high_rolling_mean_1', 'bid_high_rolling_mean_2', 'bid_high_next']\n",
        "labels = df['bid_high_up_down'].values #bid_high_next 'bid_close_return',  'bid_high_up_down'\n",
        "features = df[list(columns)].values\n",
        "\n",
        "min_max = MinMaxScaler()\n",
        "newfeatures = min_max.fit_transform(features)\n",
        "X_train, X_test, y_train, y_test = train_test_split(newfeatures, labels, test_size=0.1)"
      ],
      "execution_count": 0,
      "outputs": []
    },
    {
      "cell_type": "markdown",
      "metadata": {
        "id": "W3UXQ10bi7jY",
        "colab_type": "text"
      },
      "source": [
        "## Modelling"
      ]
    },
    {
      "cell_type": "markdown",
      "metadata": {
        "id": "N4gEWf4BlBd2",
        "colab_type": "text"
      },
      "source": [
        "Support Vector Machine\n",
        "- Check with Radial as well versus linear and compare results\n"
      ]
    },
    {
      "cell_type": "code",
      "metadata": {
        "id": "_qKq_fzhi-Pb",
        "colab_type": "code",
        "outputId": "b78aa6ad-9ed4-4009-fc70-748abcdcffb6",
        "colab": {
          "base_uri": "https://localhost:8080/",
          "height": 433
        }
      },
      "source": [
        "clf = svm.SVC(kernel='linear')\n",
        "clf = clf.fit(X_train, y_train)\n",
        "\n",
        "accuracy = clf.score(X_train, y_train)\n",
        "print (' training data accuracy ', accuracy*100)\n",
        "\n",
        "accuracy = clf.score(X_test, y_test)\n",
        "print (' testing data accuracy ', accuracy*100)\n",
        "\n",
        "ypredict = clf.predict(X_train)\n",
        "print ('\\n Training classification report\\n', classification_report(y_train, ypredict))\n",
        "\n",
        "ypredict = clf.predict(X_test)\n",
        "print ('\\n Testing classification report\\n', classification_report(y_test, ypredict))"
      ],
      "execution_count": 0,
      "outputs": [
        {
          "output_type": "stream",
          "text": [
            " training data accuracy  69.80692116094615\n",
            " testing data accuracy  70.0\n",
            "\n",
            " Training classification report\n",
            "               precision    recall  f1-score   support\n",
            "\n",
            "           0       0.74      0.68      0.71     30412\n",
            "           1       0.66      0.72      0.69     26197\n",
            "\n",
            "    accuracy                           0.70     56609\n",
            "   macro avg       0.70      0.70      0.70     56609\n",
            "weighted avg       0.70      0.70      0.70     56609\n",
            "\n",
            "\n",
            " Testing classification report\n",
            "               precision    recall  f1-score   support\n",
            "\n",
            "           0       0.74      0.68      0.71      3378\n",
            "           1       0.66      0.73      0.69      2912\n",
            "\n",
            "    accuracy                           0.70      6290\n",
            "   macro avg       0.70      0.70      0.70      6290\n",
            "weighted avg       0.70      0.70      0.70      6290\n",
            "\n"
          ],
          "name": "stdout"
        }
      ]
    },
    {
      "cell_type": "markdown",
      "metadata": {
        "id": "K7e0boVACll8",
        "colab_type": "text"
      },
      "source": [
        "Arima"
      ]
    },
    {
      "cell_type": "code",
      "metadata": {
        "id": "eCXT5VcQCkA5",
        "colab_type": "code",
        "outputId": "af27781d-9027-4b9b-b01b-c8d965c75e96",
        "colab": {
          "base_uri": "https://localhost:8080/",
          "height": 72
        }
      },
      "source": [
        "from statsmodels.tsa.arima_model import ARIMA"
      ],
      "execution_count": 0,
      "outputs": [
        {
          "output_type": "stream",
          "text": [
            "/usr/local/lib/python3.6/dist-packages/statsmodels/tools/_testing.py:19: FutureWarning: pandas.util.testing is deprecated. Use the functions in the public API at pandas.testing instead.\n",
            "  import pandas.util.testing as tm\n"
          ],
          "name": "stderr"
        }
      ]
    },
    {
      "cell_type": "markdown",
      "metadata": {
        "id": "q359gA0v45-x",
        "colab_type": "text"
      },
      "source": [
        "Gradient Boosting"
      ]
    },
    {
      "cell_type": "code",
      "metadata": {
        "id": "22zjL10z45Vl",
        "colab_type": "code",
        "outputId": "03e94110-c976-4079-b0ad-f67a66557554",
        "colab": {
          "base_uri": "https://localhost:8080/",
          "height": 381
        }
      },
      "source": [
        "from sklearn.ensemble import GradientBoostingClassifier\n",
        "clf = GradientBoostingClassifier(random_state=0, learning_rate=0.01) #, n_estimators=10000\n",
        "\n",
        "clf.fit(X_train, y_train)\n",
        "\n",
        "accuracy = clf.score(X_train, y_train)\n",
        "print('Testing Accuracy: %f' % accuracy)"
      ],
      "execution_count": 0,
      "outputs": [
        {
          "output_type": "error",
          "ename": "KeyboardInterrupt",
          "evalue": "ignored",
          "traceback": [
            "\u001b[0;31m---------------------------------------------------------------------------\u001b[0m",
            "\u001b[0;31mKeyboardInterrupt\u001b[0m                         Traceback (most recent call last)",
            "\u001b[0;32m<ipython-input-18-38fc25721f52>\u001b[0m in \u001b[0;36m<module>\u001b[0;34m()\u001b[0m\n\u001b[1;32m      2\u001b[0m \u001b[0mclf\u001b[0m \u001b[0;34m=\u001b[0m \u001b[0mGradientBoostingClassifier\u001b[0m\u001b[0;34m(\u001b[0m\u001b[0mrandom_state\u001b[0m\u001b[0;34m=\u001b[0m\u001b[0;36m0\u001b[0m\u001b[0;34m,\u001b[0m \u001b[0mlearning_rate\u001b[0m\u001b[0;34m=\u001b[0m\u001b[0;36m0.01\u001b[0m\u001b[0;34m,\u001b[0m \u001b[0mn_estimators\u001b[0m\u001b[0;34m=\u001b[0m\u001b[0;36m10000\u001b[0m\u001b[0;34m)\u001b[0m\u001b[0;34m\u001b[0m\u001b[0;34m\u001b[0m\u001b[0m\n\u001b[1;32m      3\u001b[0m \u001b[0;34m\u001b[0m\u001b[0m\n\u001b[0;32m----> 4\u001b[0;31m \u001b[0mclf\u001b[0m\u001b[0;34m.\u001b[0m\u001b[0mfit\u001b[0m\u001b[0;34m(\u001b[0m\u001b[0mX_train\u001b[0m\u001b[0;34m,\u001b[0m \u001b[0my_train\u001b[0m\u001b[0;34m)\u001b[0m\u001b[0;34m\u001b[0m\u001b[0;34m\u001b[0m\u001b[0m\n\u001b[0m\u001b[1;32m      5\u001b[0m \u001b[0;34m\u001b[0m\u001b[0m\n\u001b[1;32m      6\u001b[0m \u001b[0maccuracy\u001b[0m \u001b[0;34m=\u001b[0m \u001b[0mclf\u001b[0m\u001b[0;34m.\u001b[0m\u001b[0mscore\u001b[0m\u001b[0;34m(\u001b[0m\u001b[0mX_train\u001b[0m\u001b[0;34m,\u001b[0m \u001b[0my_train\u001b[0m\u001b[0;34m)\u001b[0m\u001b[0;34m\u001b[0m\u001b[0;34m\u001b[0m\u001b[0m\n",
            "\u001b[0;32m/usr/local/lib/python3.6/dist-packages/sklearn/ensemble/_gb.py\u001b[0m in \u001b[0;36mfit\u001b[0;34m(self, X, y, sample_weight, monitor)\u001b[0m\n\u001b[1;32m   1535\u001b[0m         n_stages = self._fit_stages(\n\u001b[1;32m   1536\u001b[0m             \u001b[0mX\u001b[0m\u001b[0;34m,\u001b[0m \u001b[0my\u001b[0m\u001b[0;34m,\u001b[0m \u001b[0mraw_predictions\u001b[0m\u001b[0;34m,\u001b[0m \u001b[0msample_weight\u001b[0m\u001b[0;34m,\u001b[0m \u001b[0mself\u001b[0m\u001b[0;34m.\u001b[0m\u001b[0m_rng\u001b[0m\u001b[0;34m,\u001b[0m \u001b[0mX_val\u001b[0m\u001b[0;34m,\u001b[0m \u001b[0my_val\u001b[0m\u001b[0;34m,\u001b[0m\u001b[0;34m\u001b[0m\u001b[0;34m\u001b[0m\u001b[0m\n\u001b[0;32m-> 1537\u001b[0;31m             sample_weight_val, begin_at_stage, monitor, X_idx_sorted)\n\u001b[0m\u001b[1;32m   1538\u001b[0m \u001b[0;34m\u001b[0m\u001b[0m\n\u001b[1;32m   1539\u001b[0m         \u001b[0;31m# change shape of arrays after fit (early-stopping or additional ests)\u001b[0m\u001b[0;34m\u001b[0m\u001b[0;34m\u001b[0m\u001b[0;34m\u001b[0m\u001b[0m\n",
            "\u001b[0;32m/usr/local/lib/python3.6/dist-packages/sklearn/ensemble/_gb.py\u001b[0m in \u001b[0;36m_fit_stages\u001b[0;34m(self, X, y, raw_predictions, sample_weight, random_state, X_val, y_val, sample_weight_val, begin_at_stage, monitor, X_idx_sorted)\u001b[0m\n\u001b[1;32m   1592\u001b[0m             raw_predictions = self._fit_stage(\n\u001b[1;32m   1593\u001b[0m                 \u001b[0mi\u001b[0m\u001b[0;34m,\u001b[0m \u001b[0mX\u001b[0m\u001b[0;34m,\u001b[0m \u001b[0my\u001b[0m\u001b[0;34m,\u001b[0m \u001b[0mraw_predictions\u001b[0m\u001b[0;34m,\u001b[0m \u001b[0msample_weight\u001b[0m\u001b[0;34m,\u001b[0m \u001b[0msample_mask\u001b[0m\u001b[0;34m,\u001b[0m\u001b[0;34m\u001b[0m\u001b[0;34m\u001b[0m\u001b[0m\n\u001b[0;32m-> 1594\u001b[0;31m                 random_state, X_idx_sorted, X_csc, X_csr)\n\u001b[0m\u001b[1;32m   1595\u001b[0m \u001b[0;34m\u001b[0m\u001b[0m\n\u001b[1;32m   1596\u001b[0m             \u001b[0;31m# track deviance (= loss)\u001b[0m\u001b[0;34m\u001b[0m\u001b[0;34m\u001b[0m\u001b[0;34m\u001b[0m\u001b[0m\n",
            "\u001b[0;32m/usr/local/lib/python3.6/dist-packages/sklearn/ensemble/_gb.py\u001b[0m in \u001b[0;36m_fit_stage\u001b[0;34m(self, i, X, y, raw_predictions, sample_weight, sample_mask, random_state, X_idx_sorted, X_csc, X_csr)\u001b[0m\n\u001b[1;32m   1243\u001b[0m             \u001b[0mX\u001b[0m \u001b[0;34m=\u001b[0m \u001b[0mX_csr\u001b[0m \u001b[0;32mif\u001b[0m \u001b[0mX_csr\u001b[0m \u001b[0;32mis\u001b[0m \u001b[0;32mnot\u001b[0m \u001b[0;32mNone\u001b[0m \u001b[0;32melse\u001b[0m \u001b[0mX\u001b[0m\u001b[0;34m\u001b[0m\u001b[0;34m\u001b[0m\u001b[0m\n\u001b[1;32m   1244\u001b[0m             tree.fit(X, residual, sample_weight=sample_weight,\n\u001b[0;32m-> 1245\u001b[0;31m                      check_input=False, X_idx_sorted=X_idx_sorted)\n\u001b[0m\u001b[1;32m   1246\u001b[0m \u001b[0;34m\u001b[0m\u001b[0m\n\u001b[1;32m   1247\u001b[0m             \u001b[0;31m# update tree leaves\u001b[0m\u001b[0;34m\u001b[0m\u001b[0;34m\u001b[0m\u001b[0;34m\u001b[0m\u001b[0m\n",
            "\u001b[0;32m/usr/local/lib/python3.6/dist-packages/sklearn/tree/_classes.py\u001b[0m in \u001b[0;36mfit\u001b[0;34m(self, X, y, sample_weight, check_input, X_idx_sorted)\u001b[0m\n\u001b[1;32m   1223\u001b[0m             \u001b[0msample_weight\u001b[0m\u001b[0;34m=\u001b[0m\u001b[0msample_weight\u001b[0m\u001b[0;34m,\u001b[0m\u001b[0;34m\u001b[0m\u001b[0;34m\u001b[0m\u001b[0m\n\u001b[1;32m   1224\u001b[0m             \u001b[0mcheck_input\u001b[0m\u001b[0;34m=\u001b[0m\u001b[0mcheck_input\u001b[0m\u001b[0;34m,\u001b[0m\u001b[0;34m\u001b[0m\u001b[0;34m\u001b[0m\u001b[0m\n\u001b[0;32m-> 1225\u001b[0;31m             X_idx_sorted=X_idx_sorted)\n\u001b[0m\u001b[1;32m   1226\u001b[0m         \u001b[0;32mreturn\u001b[0m \u001b[0mself\u001b[0m\u001b[0;34m\u001b[0m\u001b[0;34m\u001b[0m\u001b[0m\n\u001b[1;32m   1227\u001b[0m \u001b[0;34m\u001b[0m\u001b[0m\n",
            "\u001b[0;32m/usr/local/lib/python3.6/dist-packages/sklearn/tree/_classes.py\u001b[0m in \u001b[0;36mfit\u001b[0;34m(self, X, y, sample_weight, check_input, X_idx_sorted)\u001b[0m\n\u001b[1;32m    365\u001b[0m                                            min_impurity_split)\n\u001b[1;32m    366\u001b[0m \u001b[0;34m\u001b[0m\u001b[0m\n\u001b[0;32m--> 367\u001b[0;31m         \u001b[0mbuilder\u001b[0m\u001b[0;34m.\u001b[0m\u001b[0mbuild\u001b[0m\u001b[0;34m(\u001b[0m\u001b[0mself\u001b[0m\u001b[0;34m.\u001b[0m\u001b[0mtree_\u001b[0m\u001b[0;34m,\u001b[0m \u001b[0mX\u001b[0m\u001b[0;34m,\u001b[0m \u001b[0my\u001b[0m\u001b[0;34m,\u001b[0m \u001b[0msample_weight\u001b[0m\u001b[0;34m,\u001b[0m \u001b[0mX_idx_sorted\u001b[0m\u001b[0;34m)\u001b[0m\u001b[0;34m\u001b[0m\u001b[0;34m\u001b[0m\u001b[0m\n\u001b[0m\u001b[1;32m    368\u001b[0m \u001b[0;34m\u001b[0m\u001b[0m\n\u001b[1;32m    369\u001b[0m         \u001b[0;32mif\u001b[0m \u001b[0mself\u001b[0m\u001b[0;34m.\u001b[0m\u001b[0mn_outputs_\u001b[0m \u001b[0;34m==\u001b[0m \u001b[0;36m1\u001b[0m \u001b[0;32mand\u001b[0m \u001b[0mis_classifier\u001b[0m\u001b[0;34m(\u001b[0m\u001b[0mself\u001b[0m\u001b[0;34m)\u001b[0m\u001b[0;34m:\u001b[0m\u001b[0;34m\u001b[0m\u001b[0;34m\u001b[0m\u001b[0m\n",
            "\u001b[0;31mKeyboardInterrupt\u001b[0m: "
          ]
        }
      ]
    },
    {
      "cell_type": "code",
      "metadata": {
        "id": "1eaK9YqHAp4P",
        "colab_type": "code",
        "colab": {}
      },
      "source": [
        "#Predict test data\n",
        "pred = clf.predict(y_test)\n",
        "# Calculate equity..\n",
        "contracts  = 10000.0\n",
        "commission = 0.0\n",
        "\n",
        "df_trade = pd.DataFrame(X_train[train_len:,-1], columns=['return'])\n",
        "df_trade['label']  = train_y[train_len:]\n",
        "df_trade['pred']   = pred\n",
        "df_trade['won']    = df_trade['label'] == df_trade['pred']\n",
        "df_trade['return'] = df_trade['return'].shift(-1) * return_range\n",
        "df_trade.drop(df_trade.index[len(df_trade)-1], inplace=True)\n",
        "\n",
        "def calc_profit(row):\n",
        "    if row['won']:\n",
        "        return abs(row['return'])*contracts - commission\n",
        "    else:\n",
        "        return -abs(row['return'])*contracts - commission\n",
        "\n",
        "df_trade['pnl'] = df_trade.apply(lambda row: calc_profit(row), axis=1)\n",
        "df_trade['equity'] = df_trade['pnl'].cumsum()\n",
        "\n",
        "display(df_trade.tail())\n",
        "df_trade.plot(y='equity', figsize=(10,4), title='Backtest with $10000 initial capital')\n",
        "plt.xlabel('Trades')\n",
        "plt.ylabel('Equity (USD)')\n",
        "for r in df_trade.iterrows():\n",
        "    if r[1]['won']:\n",
        "        plt.axvline(x=r[0], linewidth=0.5, alpha=0.8, color='g')\n",
        "    else:\n",
        "        plt.axvline(x=r[0], linewidth=0.5, alpha=0.8, color='r')\n"
      ],
      "execution_count": 0,
      "outputs": []
    }
  ]
}