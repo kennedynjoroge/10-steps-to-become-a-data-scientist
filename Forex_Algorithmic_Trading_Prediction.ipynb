{
  "nbformat": 4,
  "nbformat_minor": 0,
  "metadata": {
    "colab": {
      "name": "Forex Algorithmic Trading Prediction.ipynb",
      "provenance": [],
      "collapsed_sections": [],
      "authorship_tag": "ABX9TyMcB9AuIHOpEZdL163Kbp6A",
      "include_colab_link": true
    },
    "kernelspec": {
      "name": "python3",
      "display_name": "Python 3"
    }
  },
  "cells": [
    {
      "cell_type": "markdown",
      "metadata": {
        "id": "view-in-github",
        "colab_type": "text"
      },
      "source": [
        "<a href=\"https://colab.research.google.com/github/kennedynjoroge/10-steps-to-become-a-data-scientist/blob/master/Forex_Algorithmic_Trading_Prediction.ipynb\" target=\"_parent\"><img src=\"https://colab.research.google.com/assets/colab-badge.svg\" alt=\"Open In Colab\"/></a>"
      ]
    },
    {
      "cell_type": "markdown",
      "metadata": {
        "id": "lyk_U-RHkQXz",
        "colab_type": "text"
      },
      "source": [
        "## Business Understanding\n",
        "\n",
        "Assumptions\n",
        "- Perfect/fair market - no unfair practices by traders"
      ]
    },
    {
      "cell_type": "markdown",
      "metadata": {
        "id": "ukyXMnqfkVzF",
        "colab_type": "text"
      },
      "source": [
        "## Data Importation\n"
      ]
    },
    {
      "cell_type": "markdown",
      "metadata": {
        "id": "dW-DMw46LOpU",
        "colab_type": "text"
      },
      "source": [
        "Import Libraries First"
      ]
    },
    {
      "cell_type": "code",
      "metadata": {
        "id": "0HeRfPQJ5uTv",
        "colab_type": "code",
        "colab": {}
      },
      "source": [
        "import datetime  as dt\n",
        "import numpy as np\n",
        "import pandas as pd\n",
        "import plotly.graph_objects as go \n",
        "#import cufflinks as cf #Dynamic Plotting for plt\n",
        "import matplotlib.pyplot as plt\n",
        "#cf.set_config_file(offline=True)\n",
        "plt.style.use('seaborn')\n",
        "%matplotlib inline\n",
        "\n",
        "#Modelling\n",
        "from sklearn.model_selection import train_test_split\n",
        "from sklearn.metrics import classification_report\n",
        "from sklearn import svm\n",
        "from sklearn.preprocessing import MinMaxScaler\n",
        "from sklearn.impute import SimpleImputer"
      ],
      "execution_count": 0,
      "outputs": []
    },
    {
      "cell_type": "code",
      "metadata": {
        "id": "YhwUWYqjUIuZ",
        "colab_type": "code",
        "colab": {}
      },
      "source": [
        "## FXCM FOREX API\n",
        "!pip  install fxcmpy -q\n",
        "!pip install python-socketio -q\n",
        "import fxcmpy\n",
        "# api token/key\n",
        "api = fxcmpy.fxcmpy(config_file='fxcm.cfg')\n",
        "\n",
        "## Quandl API Curreny API\n",
        "!pip install quandl -q #q is for silent install.\n",
        "import quandl\n",
        "# api token/key\n",
        "quandl.ApiConfig.api_key = \"Y4Z_EXQ7qh7xxJhC8J6E\""
      ],
      "execution_count": 0,
      "outputs": []
    },
    {
      "cell_type": "code",
      "metadata": {
        "id": "yByZbSHA6-uK",
        "colab_type": "code",
        "colab": {}
      },
      "source": [
        ""
      ],
      "execution_count": 0,
      "outputs": []
    },
    {
      "cell_type": "markdown",
      "metadata": {
        "id": "-mDdaUyi59U4",
        "colab_type": "text"
      },
      "source": [
        "View Instruments\n"
      ]
    },
    {
      "cell_type": "code",
      "metadata": {
        "id": "h405Bsi6wdyN",
        "colab_type": "code",
        "colab": {
          "base_uri": "https://localhost:8080/",
          "height": 55
        },
        "outputId": "a4c3efae-9a1d-44b1-d419-4269a57881fe"
      },
      "source": [
        "instruments = api.get_instruments()\n",
        "print(instruments)"
      ],
      "execution_count": 3,
      "outputs": [
        {
          "output_type": "stream",
          "text": [
            "['EUR/USD', 'USD/JPY', 'GBP/USD', 'USD/CHF', 'EUR/CHF', 'AUD/USD', 'USD/CAD', 'NZD/USD', 'EUR/GBP', 'EUR/JPY', 'GBP/JPY', 'CHF/JPY', 'GBP/CHF', 'EUR/AUD', 'EUR/CAD', 'AUD/CAD', 'AUD/JPY', 'CAD/JPY', 'NZD/JPY', 'GBP/CAD', 'GBP/NZD', 'GBP/AUD', 'AUD/NZD', 'USD/SEK', 'EUR/SEK', 'EUR/NOK', 'USD/NOK', 'USD/MXN', 'AUD/CHF', 'EUR/NZD', 'USD/ZAR', 'USD/HKD', 'ZAR/JPY', 'USD/TRY', 'EUR/TRY', 'NZD/CHF', 'CAD/CHF', 'NZD/CAD', 'TRY/JPY', 'USD/CNH', 'AUS200', 'ESP35', 'FRA40', 'GER30', 'HKG33', 'JPN225', 'NAS100', 'SPX500', 'UK100', 'US30', 'Copper', 'CHN50', 'EUSTX50', 'USDOLLAR', 'US2000', 'USOil', 'UKOil', 'SOYF', 'NGAS', 'WHEATF', 'CORNF', 'Bund', 'XAU/USD', 'XAG/USD', 'EMBasket', 'JPYBasket', 'BTC/USD', 'BCH/USD', 'ETH/USD', 'LTC/USD', 'XRP/USD', 'CryptoMajor', 'EOS/USD', 'XLM/USD', 'USEquities']\n"
          ],
          "name": "stdout"
        }
      ]
    },
    {
      "cell_type": "markdown",
      "metadata": {
        "id": "GARs-Wn8zP48",
        "colab_type": "text"
      },
      "source": [
        "### Bid and Ask Historical Data"
      ]
    },
    {
      "cell_type": "markdown",
      "metadata": {
        "id": "c1HtRS2v6W5D",
        "colab_type": "text"
      },
      "source": [
        "Data for today\n"
      ]
    },
    {
      "cell_type": "code",
      "metadata": {
        "id": "_gD1PrKazUyj",
        "colab_type": "code",
        "colab": {
          "base_uri": "https://localhost:8080/",
          "height": 386
        },
        "outputId": "a7d426fa-f362-4bc0-a1e7-c9a1da6ba87b"
      },
      "source": [
        "candles = api.get_candles('USD/JPY', period='H1', number=10)\n",
        "candles"
      ],
      "execution_count": 4,
      "outputs": [
        {
          "output_type": "execute_result",
          "data": {
            "text/html": [
              "<div>\n",
              "<style scoped>\n",
              "    .dataframe tbody tr th:only-of-type {\n",
              "        vertical-align: middle;\n",
              "    }\n",
              "\n",
              "    .dataframe tbody tr th {\n",
              "        vertical-align: top;\n",
              "    }\n",
              "\n",
              "    .dataframe thead th {\n",
              "        text-align: right;\n",
              "    }\n",
              "</style>\n",
              "<table border=\"1\" class=\"dataframe\">\n",
              "  <thead>\n",
              "    <tr style=\"text-align: right;\">\n",
              "      <th></th>\n",
              "      <th>bidopen</th>\n",
              "      <th>bidclose</th>\n",
              "      <th>bidhigh</th>\n",
              "      <th>bidlow</th>\n",
              "      <th>askopen</th>\n",
              "      <th>askclose</th>\n",
              "      <th>askhigh</th>\n",
              "      <th>asklow</th>\n",
              "      <th>tickqty</th>\n",
              "    </tr>\n",
              "    <tr>\n",
              "      <th>date</th>\n",
              "      <th></th>\n",
              "      <th></th>\n",
              "      <th></th>\n",
              "      <th></th>\n",
              "      <th></th>\n",
              "      <th></th>\n",
              "      <th></th>\n",
              "      <th></th>\n",
              "      <th></th>\n",
              "    </tr>\n",
              "  </thead>\n",
              "  <tbody>\n",
              "    <tr>\n",
              "      <th>2020-04-02 06:00:00</th>\n",
              "      <td>107.273</td>\n",
              "      <td>107.325</td>\n",
              "      <td>107.358</td>\n",
              "      <td>107.139</td>\n",
              "      <td>107.289</td>\n",
              "      <td>107.341</td>\n",
              "      <td>107.372</td>\n",
              "      <td>107.153</td>\n",
              "      <td>19683</td>\n",
              "    </tr>\n",
              "    <tr>\n",
              "      <th>2020-04-02 07:00:00</th>\n",
              "      <td>107.325</td>\n",
              "      <td>107.283</td>\n",
              "      <td>107.356</td>\n",
              "      <td>107.173</td>\n",
              "      <td>107.341</td>\n",
              "      <td>107.297</td>\n",
              "      <td>107.371</td>\n",
              "      <td>107.184</td>\n",
              "      <td>19790</td>\n",
              "    </tr>\n",
              "    <tr>\n",
              "      <th>2020-04-02 08:00:00</th>\n",
              "      <td>107.283</td>\n",
              "      <td>107.301</td>\n",
              "      <td>107.409</td>\n",
              "      <td>107.249</td>\n",
              "      <td>107.297</td>\n",
              "      <td>107.315</td>\n",
              "      <td>107.422</td>\n",
              "      <td>107.260</td>\n",
              "      <td>14970</td>\n",
              "    </tr>\n",
              "    <tr>\n",
              "      <th>2020-04-02 09:00:00</th>\n",
              "      <td>107.301</td>\n",
              "      <td>107.294</td>\n",
              "      <td>107.338</td>\n",
              "      <td>107.247</td>\n",
              "      <td>107.315</td>\n",
              "      <td>107.307</td>\n",
              "      <td>107.353</td>\n",
              "      <td>107.260</td>\n",
              "      <td>14350</td>\n",
              "    </tr>\n",
              "    <tr>\n",
              "      <th>2020-04-02 10:00:00</th>\n",
              "      <td>107.294</td>\n",
              "      <td>107.422</td>\n",
              "      <td>107.441</td>\n",
              "      <td>107.283</td>\n",
              "      <td>107.307</td>\n",
              "      <td>107.434</td>\n",
              "      <td>107.452</td>\n",
              "      <td>107.296</td>\n",
              "      <td>11981</td>\n",
              "    </tr>\n",
              "    <tr>\n",
              "      <th>2020-04-02 11:00:00</th>\n",
              "      <td>107.422</td>\n",
              "      <td>107.322</td>\n",
              "      <td>107.423</td>\n",
              "      <td>107.289</td>\n",
              "      <td>107.434</td>\n",
              "      <td>107.335</td>\n",
              "      <td>107.439</td>\n",
              "      <td>107.301</td>\n",
              "      <td>12241</td>\n",
              "    </tr>\n",
              "    <tr>\n",
              "      <th>2020-04-02 12:00:00</th>\n",
              "      <td>107.322</td>\n",
              "      <td>107.181</td>\n",
              "      <td>107.411</td>\n",
              "      <td>107.011</td>\n",
              "      <td>107.335</td>\n",
              "      <td>107.198</td>\n",
              "      <td>107.425</td>\n",
              "      <td>107.027</td>\n",
              "      <td>28859</td>\n",
              "    </tr>\n",
              "    <tr>\n",
              "      <th>2020-04-02 13:00:00</th>\n",
              "      <td>107.181</td>\n",
              "      <td>107.257</td>\n",
              "      <td>107.371</td>\n",
              "      <td>107.118</td>\n",
              "      <td>107.198</td>\n",
              "      <td>107.276</td>\n",
              "      <td>107.384</td>\n",
              "      <td>107.133</td>\n",
              "      <td>37155</td>\n",
              "    </tr>\n",
              "    <tr>\n",
              "      <th>2020-04-02 14:00:00</th>\n",
              "      <td>107.257</td>\n",
              "      <td>107.987</td>\n",
              "      <td>107.992</td>\n",
              "      <td>107.237</td>\n",
              "      <td>107.276</td>\n",
              "      <td>108.003</td>\n",
              "      <td>108.009</td>\n",
              "      <td>107.252</td>\n",
              "      <td>33534</td>\n",
              "    </tr>\n",
              "    <tr>\n",
              "      <th>2020-04-02 15:00:00</th>\n",
              "      <td>107.987</td>\n",
              "      <td>107.926</td>\n",
              "      <td>108.000</td>\n",
              "      <td>107.827</td>\n",
              "      <td>108.003</td>\n",
              "      <td>107.942</td>\n",
              "      <td>108.017</td>\n",
              "      <td>107.842</td>\n",
              "      <td>2859</td>\n",
              "    </tr>\n",
              "  </tbody>\n",
              "</table>\n",
              "</div>"
            ],
            "text/plain": [
              "                     bidopen  bidclose  bidhigh  ...  askhigh   asklow  tickqty\n",
              "date                                             ...                           \n",
              "2020-04-02 06:00:00  107.273   107.325  107.358  ...  107.372  107.153    19683\n",
              "2020-04-02 07:00:00  107.325   107.283  107.356  ...  107.371  107.184    19790\n",
              "2020-04-02 08:00:00  107.283   107.301  107.409  ...  107.422  107.260    14970\n",
              "2020-04-02 09:00:00  107.301   107.294  107.338  ...  107.353  107.260    14350\n",
              "2020-04-02 10:00:00  107.294   107.422  107.441  ...  107.452  107.296    11981\n",
              "2020-04-02 11:00:00  107.422   107.322  107.423  ...  107.439  107.301    12241\n",
              "2020-04-02 12:00:00  107.322   107.181  107.411  ...  107.425  107.027    28859\n",
              "2020-04-02 13:00:00  107.181   107.257  107.371  ...  107.384  107.133    37155\n",
              "2020-04-02 14:00:00  107.257   107.987  107.992  ...  108.009  107.252    33534\n",
              "2020-04-02 15:00:00  107.987   107.926  108.000  ...  108.017  107.842     2859\n",
              "\n",
              "[10 rows x 9 columns]"
            ]
          },
          "metadata": {
            "tags": []
          },
          "execution_count": 4
        }
      ]
    },
    {
      "cell_type": "code",
      "metadata": {
        "id": "Ub1DRyRx6bZV",
        "colab_type": "code",
        "colab": {
          "base_uri": "https://localhost:8080/",
          "height": 423
        },
        "outputId": "f9962bc3-0e3a-412c-b60a-83d8db6bb53f"
      },
      "source": [
        "data_201920 = api.get_candles('USD/JPY', period = 'H1', start = dt.datetime(2019, 3, 30), stop = dt.datetime(2020, 3, 30))\n",
        "data_201819 = api.get_candles('USD/JPY', period = 'H1', start = dt.datetime(2018, 3, 30), stop = dt.datetime(2019, 3, 30))\n",
        "data_201718 = api.get_candles('USD/JPY', period = 'H1', start = dt.datetime(2017, 3, 30), stop = dt.datetime(2018, 3, 30))\n",
        "data_201617 = api.get_candles('USD/JPY', period = 'H1', start = dt.datetime(2016, 3, 30), stop = dt.datetime(2017, 3, 30))\n",
        "data_201516 = api.get_candles('USD/JPY', period = 'H1', start = dt.datetime(2015, 3, 30), stop = dt.datetime(2016, 3, 30))\n",
        "data_201415 = api.get_candles('USD/JPY', period = 'H1', start = dt.datetime(2014, 3, 30), stop = dt.datetime(2015, 3, 30))\n",
        "data_201314 = api.get_candles('USD/JPY', period = 'H1', start = dt.datetime(2013, 3, 30), stop = dt.datetime(2014, 3, 30))\n",
        "data_201213 = api.get_candles('USD/JPY', period = 'H1', start = dt.datetime(2012, 3, 30), stop = dt.datetime(2013, 3, 30))\n",
        "data_201112 = api.get_candles('USD/JPY', period = 'H1', start = dt.datetime(2011, 3, 30), stop = dt.datetime(2012, 3, 30))\n",
        "data_201011 = api.get_candles('USD/JPY', period = 'H1', start = dt.datetime(2010, 3, 30), stop = dt.datetime(2011, 3, 30))\n",
        "\n",
        "#Concatenate data for all the 10 years\n",
        "years_list = [data_201920, data_201819, data_201718, data_201617, data_201516, data_201415, data_201314, data_201213, data_201112, data_201011]\n",
        "df = pd.concat(years_list)\n",
        "\n",
        "#Print Count\n",
        "print(\"2019-2020\",len(data_201920))\n",
        "print(\"2018-2019\",len(data_201819))\n",
        "print(\"2017-2018\",len(data_201718))\n",
        "print(\"2016-2017\",len(data_201617))\n",
        "print(\"2015-2016\",len(data_201516))\n",
        "print(\"2014-2015\",len(data_201415))\n",
        "print(\"2013-2014\",len(data_201314))\n",
        "print(\"2012-2013\",len(data_201213))\n",
        "print(\"2011-2012\",len(data_201112))\n",
        "print(\"2010-2011\",len(data_201011))\n",
        "print(\"Merged Data\",len(df))\n",
        "\n",
        "#View Sample\n",
        "df.head()"
      ],
      "execution_count": 5,
      "outputs": [
        {
          "output_type": "stream",
          "text": [
            "2019-2020 6300\n",
            "2018-2019 6315\n",
            "2017-2018 6331\n",
            "2016-2017 6306\n",
            "2015-2016 6348\n",
            "2014-2015 6307\n",
            "2013-2014 6296\n",
            "2012-2013 6217\n",
            "2011-2012 6281\n",
            "2010-2011 6247\n",
            "Merged Data 62948\n"
          ],
          "name": "stdout"
        },
        {
          "output_type": "execute_result",
          "data": {
            "text/html": [
              "<div>\n",
              "<style scoped>\n",
              "    .dataframe tbody tr th:only-of-type {\n",
              "        vertical-align: middle;\n",
              "    }\n",
              "\n",
              "    .dataframe tbody tr th {\n",
              "        vertical-align: top;\n",
              "    }\n",
              "\n",
              "    .dataframe thead th {\n",
              "        text-align: right;\n",
              "    }\n",
              "</style>\n",
              "<table border=\"1\" class=\"dataframe\">\n",
              "  <thead>\n",
              "    <tr style=\"text-align: right;\">\n",
              "      <th></th>\n",
              "      <th>bidopen</th>\n",
              "      <th>bidclose</th>\n",
              "      <th>bidhigh</th>\n",
              "      <th>bidlow</th>\n",
              "      <th>askopen</th>\n",
              "      <th>askclose</th>\n",
              "      <th>askhigh</th>\n",
              "      <th>asklow</th>\n",
              "      <th>tickqty</th>\n",
              "    </tr>\n",
              "    <tr>\n",
              "      <th>date</th>\n",
              "      <th></th>\n",
              "      <th></th>\n",
              "      <th></th>\n",
              "      <th></th>\n",
              "      <th></th>\n",
              "      <th></th>\n",
              "      <th></th>\n",
              "      <th></th>\n",
              "      <th></th>\n",
              "    </tr>\n",
              "  </thead>\n",
              "  <tbody>\n",
              "    <tr>\n",
              "      <th>2019-03-31 18:00:00</th>\n",
              "      <td>110.847</td>\n",
              "      <td>110.954</td>\n",
              "      <td>110.993</td>\n",
              "      <td>110.923</td>\n",
              "      <td>110.886</td>\n",
              "      <td>110.993</td>\n",
              "      <td>110.998</td>\n",
              "      <td>110.970</td>\n",
              "      <td>193</td>\n",
              "    </tr>\n",
              "    <tr>\n",
              "      <th>2019-03-31 19:00:00</th>\n",
              "      <td>110.954</td>\n",
              "      <td>111.007</td>\n",
              "      <td>111.018</td>\n",
              "      <td>110.940</td>\n",
              "      <td>110.993</td>\n",
              "      <td>111.012</td>\n",
              "      <td>111.030</td>\n",
              "      <td>110.974</td>\n",
              "      <td>215</td>\n",
              "    </tr>\n",
              "    <tr>\n",
              "      <th>2019-03-31 20:00:00</th>\n",
              "      <td>111.007</td>\n",
              "      <td>111.013</td>\n",
              "      <td>111.091</td>\n",
              "      <td>110.987</td>\n",
              "      <td>111.012</td>\n",
              "      <td>111.074</td>\n",
              "      <td>111.107</td>\n",
              "      <td>111.012</td>\n",
              "      <td>321</td>\n",
              "    </tr>\n",
              "    <tr>\n",
              "      <th>2019-03-31 21:00:00</th>\n",
              "      <td>111.013</td>\n",
              "      <td>110.932</td>\n",
              "      <td>111.041</td>\n",
              "      <td>110.878</td>\n",
              "      <td>111.074</td>\n",
              "      <td>110.965</td>\n",
              "      <td>111.086</td>\n",
              "      <td>110.893</td>\n",
              "      <td>1320</td>\n",
              "    </tr>\n",
              "    <tr>\n",
              "      <th>2019-03-31 22:00:00</th>\n",
              "      <td>110.932</td>\n",
              "      <td>110.936</td>\n",
              "      <td>110.983</td>\n",
              "      <td>110.897</td>\n",
              "      <td>110.965</td>\n",
              "      <td>110.950</td>\n",
              "      <td>110.999</td>\n",
              "      <td>110.911</td>\n",
              "      <td>7250</td>\n",
              "    </tr>\n",
              "  </tbody>\n",
              "</table>\n",
              "</div>"
            ],
            "text/plain": [
              "                     bidopen  bidclose  bidhigh  ...  askhigh   asklow  tickqty\n",
              "date                                             ...                           \n",
              "2019-03-31 18:00:00  110.847   110.954  110.993  ...  110.998  110.970      193\n",
              "2019-03-31 19:00:00  110.954   111.007  111.018  ...  111.030  110.974      215\n",
              "2019-03-31 20:00:00  111.007   111.013  111.091  ...  111.107  111.012      321\n",
              "2019-03-31 21:00:00  111.013   110.932  111.041  ...  111.086  110.893     1320\n",
              "2019-03-31 22:00:00  110.932   110.936  110.983  ...  110.999  110.911     7250\n",
              "\n",
              "[5 rows x 9 columns]"
            ]
          },
          "metadata": {
            "tags": []
          },
          "execution_count": 5
        }
      ]
    },
    {
      "cell_type": "code",
      "metadata": {
        "id": "FLsiMpMmYrno",
        "colab_type": "code",
        "colab": {
          "base_uri": "https://localhost:8080/",
          "height": 294
        },
        "outputId": "c9760dfb-ed02-4f47-aac8-04fa3ce7353e"
      },
      "source": [
        "df.describe()"
      ],
      "execution_count": 6,
      "outputs": [
        {
          "output_type": "execute_result",
          "data": {
            "text/html": [
              "<div>\n",
              "<style scoped>\n",
              "    .dataframe tbody tr th:only-of-type {\n",
              "        vertical-align: middle;\n",
              "    }\n",
              "\n",
              "    .dataframe tbody tr th {\n",
              "        vertical-align: top;\n",
              "    }\n",
              "\n",
              "    .dataframe thead th {\n",
              "        text-align: right;\n",
              "    }\n",
              "</style>\n",
              "<table border=\"1\" class=\"dataframe\">\n",
              "  <thead>\n",
              "    <tr style=\"text-align: right;\">\n",
              "      <th></th>\n",
              "      <th>bidopen</th>\n",
              "      <th>bidclose</th>\n",
              "      <th>bidhigh</th>\n",
              "      <th>bidlow</th>\n",
              "      <th>askopen</th>\n",
              "      <th>askclose</th>\n",
              "      <th>askhigh</th>\n",
              "      <th>asklow</th>\n",
              "      <th>tickqty</th>\n",
              "    </tr>\n",
              "  </thead>\n",
              "  <tbody>\n",
              "    <tr>\n",
              "      <th>count</th>\n",
              "      <td>62948.000000</td>\n",
              "      <td>62948.000000</td>\n",
              "      <td>62948.000000</td>\n",
              "      <td>62948.000000</td>\n",
              "      <td>62948.000000</td>\n",
              "      <td>62948.000000</td>\n",
              "      <td>62948.000000</td>\n",
              "      <td>62948.000000</td>\n",
              "      <td>62948.000000</td>\n",
              "    </tr>\n",
              "    <tr>\n",
              "      <th>mean</th>\n",
              "      <td>101.705842</td>\n",
              "      <td>101.706057</td>\n",
              "      <td>101.782584</td>\n",
              "      <td>101.626552</td>\n",
              "      <td>101.721464</td>\n",
              "      <td>101.721679</td>\n",
              "      <td>101.797261</td>\n",
              "      <td>101.641694</td>\n",
              "      <td>7698.083291</td>\n",
              "    </tr>\n",
              "    <tr>\n",
              "      <th>std</th>\n",
              "      <td>13.967212</td>\n",
              "      <td>13.967183</td>\n",
              "      <td>13.974142</td>\n",
              "      <td>13.959546</td>\n",
              "      <td>13.967709</td>\n",
              "      <td>13.967681</td>\n",
              "      <td>13.974794</td>\n",
              "      <td>13.959669</td>\n",
              "      <td>8652.560999</td>\n",
              "    </tr>\n",
              "    <tr>\n",
              "      <th>min</th>\n",
              "      <td>75.671000</td>\n",
              "      <td>75.671000</td>\n",
              "      <td>75.746000</td>\n",
              "      <td>75.559000</td>\n",
              "      <td>75.705000</td>\n",
              "      <td>75.705000</td>\n",
              "      <td>75.759000</td>\n",
              "      <td>75.575000</td>\n",
              "      <td>1.000000</td>\n",
              "    </tr>\n",
              "    <tr>\n",
              "      <th>25%</th>\n",
              "      <td>88.487250</td>\n",
              "      <td>88.487250</td>\n",
              "      <td>88.568750</td>\n",
              "      <td>88.379750</td>\n",
              "      <td>88.501000</td>\n",
              "      <td>88.501000</td>\n",
              "      <td>88.581000</td>\n",
              "      <td>88.394000</td>\n",
              "      <td>2203.000000</td>\n",
              "    </tr>\n",
              "    <tr>\n",
              "      <th>50%</th>\n",
              "      <td>106.286000</td>\n",
              "      <td>106.286000</td>\n",
              "      <td>106.369500</td>\n",
              "      <td>106.203500</td>\n",
              "      <td>106.301500</td>\n",
              "      <td>106.301500</td>\n",
              "      <td>106.386000</td>\n",
              "      <td>106.220000</td>\n",
              "      <td>5217.000000</td>\n",
              "    </tr>\n",
              "    <tr>\n",
              "      <th>75%</th>\n",
              "      <td>111.726000</td>\n",
              "      <td>111.726000</td>\n",
              "      <td>111.793250</td>\n",
              "      <td>111.659000</td>\n",
              "      <td>111.740000</td>\n",
              "      <td>111.740000</td>\n",
              "      <td>111.808000</td>\n",
              "      <td>111.674250</td>\n",
              "      <td>10287.250000</td>\n",
              "    </tr>\n",
              "    <tr>\n",
              "      <th>max</th>\n",
              "      <td>125.676000</td>\n",
              "      <td>125.676000</td>\n",
              "      <td>125.850000</td>\n",
              "      <td>125.602000</td>\n",
              "      <td>125.689000</td>\n",
              "      <td>125.689000</td>\n",
              "      <td>125.864000</td>\n",
              "      <td>125.617000</td>\n",
              "      <td>171038.000000</td>\n",
              "    </tr>\n",
              "  </tbody>\n",
              "</table>\n",
              "</div>"
            ],
            "text/plain": [
              "            bidopen      bidclose  ...        asklow        tickqty\n",
              "count  62948.000000  62948.000000  ...  62948.000000   62948.000000\n",
              "mean     101.705842    101.706057  ...    101.641694    7698.083291\n",
              "std       13.967212     13.967183  ...     13.959669    8652.560999\n",
              "min       75.671000     75.671000  ...     75.575000       1.000000\n",
              "25%       88.487250     88.487250  ...     88.394000    2203.000000\n",
              "50%      106.286000    106.286000  ...    106.220000    5217.000000\n",
              "75%      111.726000    111.726000  ...    111.674250   10287.250000\n",
              "max      125.676000    125.676000  ...    125.617000  171038.000000\n",
              "\n",
              "[8 rows x 9 columns]"
            ]
          },
          "metadata": {
            "tags": []
          },
          "execution_count": 6
        }
      ]
    },
    {
      "cell_type": "markdown",
      "metadata": {
        "id": "Z0699KC_2TnX",
        "colab_type": "text"
      },
      "source": [
        "### Interest Rates"
      ]
    },
    {
      "cell_type": "code",
      "metadata": {
        "id": "sFpvOIB45ay8",
        "colab_type": "code",
        "colab": {
          "base_uri": "https://localhost:8080/",
          "height": 171
        },
        "outputId": "59cff88e-7d05-480e-e1c1-939f592bc6a4"
      },
      "source": [
        "# Read US Interest rates from quandl for the last 10 years\n",
        "# API frequency is daily\n",
        "v_start_date = '2010-03-30'\n",
        "v_end_date = '2020-03-30'\n",
        "df_US_Interest_Rates = quandl.get(\"FRED/DFF\", start_date=v_start_date, end_date=v_end_date)\n",
        "df_US_Interest_Rates.columns = df_US_Interest_Rates.columns.str.replace('Value', 'US_Monthly_Interest_Rate')\n",
        "df_JPY_Interest_Rates = quandl.get(\"MOFJ/INTEREST_RATE_JAPAN_40Y\", start_date=v_start_date, end_date=v_end_date)\n",
        "df_JPY_Interest_Rates.columns = df_JPY_Interest_Rates.columns.str.replace('Value', 'JPY_Monthly_Interest_Rate')\n",
        "\n",
        "#Create transaction date from index\n",
        "df['Transaction_Date'] = df.index.strftime('%Y-%m-%d')\n",
        "df['index_num'] = df.index\n",
        "df_US_Interest_Rates['Transaction_Date']  = df_US_Interest_Rates.index.strftime('%Y-%m-%d')\n",
        "df_JPY_Interest_Rates['Transaction_Date']  = df_JPY_Interest_Rates.index.strftime('%Y-%m-%d')\n",
        "\n",
        "df_JPY_Interest_Rates[0:3]"
      ],
      "execution_count": 7,
      "outputs": [
        {
          "output_type": "execute_result",
          "data": {
            "text/html": [
              "<div>\n",
              "<style scoped>\n",
              "    .dataframe tbody tr th:only-of-type {\n",
              "        vertical-align: middle;\n",
              "    }\n",
              "\n",
              "    .dataframe tbody tr th {\n",
              "        vertical-align: top;\n",
              "    }\n",
              "\n",
              "    .dataframe thead th {\n",
              "        text-align: right;\n",
              "    }\n",
              "</style>\n",
              "<table border=\"1\" class=\"dataframe\">\n",
              "  <thead>\n",
              "    <tr style=\"text-align: right;\">\n",
              "      <th></th>\n",
              "      <th>JPY_Monthly_Interest_Rate</th>\n",
              "      <th>Transaction_Date</th>\n",
              "    </tr>\n",
              "    <tr>\n",
              "      <th>Date</th>\n",
              "      <th></th>\n",
              "      <th></th>\n",
              "    </tr>\n",
              "  </thead>\n",
              "  <tbody>\n",
              "    <tr>\n",
              "      <th>2010-03-30</th>\n",
              "      <td>2.320</td>\n",
              "      <td>2010-03-30</td>\n",
              "    </tr>\n",
              "    <tr>\n",
              "      <th>2010-03-31</th>\n",
              "      <td>2.308</td>\n",
              "      <td>2010-03-31</td>\n",
              "    </tr>\n",
              "    <tr>\n",
              "      <th>2010-04-01</th>\n",
              "      <td>2.285</td>\n",
              "      <td>2010-04-01</td>\n",
              "    </tr>\n",
              "  </tbody>\n",
              "</table>\n",
              "</div>"
            ],
            "text/plain": [
              "            JPY_Monthly_Interest_Rate Transaction_Date\n",
              "Date                                                  \n",
              "2010-03-30                      2.320       2010-03-30\n",
              "2010-03-31                      2.308       2010-03-31\n",
              "2010-04-01                      2.285       2010-04-01"
            ]
          },
          "metadata": {
            "tags": []
          },
          "execution_count": 7
        }
      ]
    },
    {
      "cell_type": "code",
      "metadata": {
        "id": "NTzT7_nq6kof",
        "colab_type": "code",
        "colab": {}
      },
      "source": [
        "df = df.merge(df_US_Interest_Rates,on='Transaction_Date',how='left')\n",
        "# df.set_index(\"index_num\", inplace = True) \n",
        "# df = df.merge(df_JPY_Interest_Rates,on='Transaction_Date',how='left')\n",
        "\n",
        "# print (pd.merge(df2, df1, how='outer', on='month'))"
      ],
      "execution_count": 0,
      "outputs": []
    },
    {
      "cell_type": "code",
      "metadata": {
        "id": "gVA-1VzBEFlN",
        "colab_type": "code",
        "colab": {
          "base_uri": "https://localhost:8080/",
          "height": 223
        },
        "outputId": "daec45b3-9e10-47c0-f731-77f0af3d4d47"
      },
      "source": [
        "df.set_index(\"index_num\", inplace = True) \n",
        "df[0:3]"
      ],
      "execution_count": 9,
      "outputs": [
        {
          "output_type": "execute_result",
          "data": {
            "text/html": [
              "<div>\n",
              "<style scoped>\n",
              "    .dataframe tbody tr th:only-of-type {\n",
              "        vertical-align: middle;\n",
              "    }\n",
              "\n",
              "    .dataframe tbody tr th {\n",
              "        vertical-align: top;\n",
              "    }\n",
              "\n",
              "    .dataframe thead th {\n",
              "        text-align: right;\n",
              "    }\n",
              "</style>\n",
              "<table border=\"1\" class=\"dataframe\">\n",
              "  <thead>\n",
              "    <tr style=\"text-align: right;\">\n",
              "      <th></th>\n",
              "      <th>bidopen</th>\n",
              "      <th>bidclose</th>\n",
              "      <th>bidhigh</th>\n",
              "      <th>bidlow</th>\n",
              "      <th>askopen</th>\n",
              "      <th>askclose</th>\n",
              "      <th>askhigh</th>\n",
              "      <th>asklow</th>\n",
              "      <th>tickqty</th>\n",
              "      <th>Transaction_Date</th>\n",
              "      <th>US_Monthly_Interest_Rate</th>\n",
              "    </tr>\n",
              "    <tr>\n",
              "      <th>index_num</th>\n",
              "      <th></th>\n",
              "      <th></th>\n",
              "      <th></th>\n",
              "      <th></th>\n",
              "      <th></th>\n",
              "      <th></th>\n",
              "      <th></th>\n",
              "      <th></th>\n",
              "      <th></th>\n",
              "      <th></th>\n",
              "      <th></th>\n",
              "    </tr>\n",
              "  </thead>\n",
              "  <tbody>\n",
              "    <tr>\n",
              "      <th>2019-03-31 18:00:00</th>\n",
              "      <td>110.847</td>\n",
              "      <td>110.954</td>\n",
              "      <td>110.993</td>\n",
              "      <td>110.923</td>\n",
              "      <td>110.886</td>\n",
              "      <td>110.993</td>\n",
              "      <td>110.998</td>\n",
              "      <td>110.970</td>\n",
              "      <td>193</td>\n",
              "      <td>2019-03-31</td>\n",
              "      <td>2.43</td>\n",
              "    </tr>\n",
              "    <tr>\n",
              "      <th>2019-03-31 19:00:00</th>\n",
              "      <td>110.954</td>\n",
              "      <td>111.007</td>\n",
              "      <td>111.018</td>\n",
              "      <td>110.940</td>\n",
              "      <td>110.993</td>\n",
              "      <td>111.012</td>\n",
              "      <td>111.030</td>\n",
              "      <td>110.974</td>\n",
              "      <td>215</td>\n",
              "      <td>2019-03-31</td>\n",
              "      <td>2.43</td>\n",
              "    </tr>\n",
              "    <tr>\n",
              "      <th>2019-03-31 20:00:00</th>\n",
              "      <td>111.007</td>\n",
              "      <td>111.013</td>\n",
              "      <td>111.091</td>\n",
              "      <td>110.987</td>\n",
              "      <td>111.012</td>\n",
              "      <td>111.074</td>\n",
              "      <td>111.107</td>\n",
              "      <td>111.012</td>\n",
              "      <td>321</td>\n",
              "      <td>2019-03-31</td>\n",
              "      <td>2.43</td>\n",
              "    </tr>\n",
              "  </tbody>\n",
              "</table>\n",
              "</div>"
            ],
            "text/plain": [
              "                     bidopen  ...  US_Monthly_Interest_Rate\n",
              "index_num                     ...                          \n",
              "2019-03-31 18:00:00  110.847  ...                      2.43\n",
              "2019-03-31 19:00:00  110.954  ...                      2.43\n",
              "2019-03-31 20:00:00  111.007  ...                      2.43\n",
              "\n",
              "[3 rows x 11 columns]"
            ]
          },
          "metadata": {
            "tags": []
          },
          "execution_count": 9
        }
      ]
    },
    {
      "cell_type": "markdown",
      "metadata": {
        "id": "cwuftLP2NsKk",
        "colab_type": "text"
      },
      "source": [
        "### Unemployment rates"
      ]
    },
    {
      "cell_type": "code",
      "metadata": {
        "id": "MROKRITTADDA",
        "colab_type": "code",
        "colab": {
          "base_uri": "https://localhost:8080/",
          "height": 386
        },
        "outputId": "53885022-f351-4422-d14e-a103734e128c"
      },
      "source": [
        "#  % of Total Labor Force. API Frequency is annual. \n",
        "US_Unemployment_percent = quandl.get(\"ODA/JPN_LUR\", start_date=v_start_date, end_date=v_end_date)\n",
        "JPY_Unemployment_percent = quandl.get(\"ODA/USA_LUR\", start_date=v_start_date, end_date=v_end_date)\n",
        "# quandl.get(\"ODA/USA_LUR\", authtoken=\"Y4Z_EXQ7qh7xxJhC8J6E\")\n",
        "US_Unemployment_percent"
      ],
      "execution_count": 10,
      "outputs": [
        {
          "output_type": "execute_result",
          "data": {
            "text/html": [
              "<div>\n",
              "<style scoped>\n",
              "    .dataframe tbody tr th:only-of-type {\n",
              "        vertical-align: middle;\n",
              "    }\n",
              "\n",
              "    .dataframe tbody tr th {\n",
              "        vertical-align: top;\n",
              "    }\n",
              "\n",
              "    .dataframe thead th {\n",
              "        text-align: right;\n",
              "    }\n",
              "</style>\n",
              "<table border=\"1\" class=\"dataframe\">\n",
              "  <thead>\n",
              "    <tr style=\"text-align: right;\">\n",
              "      <th></th>\n",
              "      <th>Value</th>\n",
              "    </tr>\n",
              "    <tr>\n",
              "      <th>Date</th>\n",
              "      <th></th>\n",
              "    </tr>\n",
              "  </thead>\n",
              "  <tbody>\n",
              "    <tr>\n",
              "      <th>2010-12-31</th>\n",
              "      <td>5.058</td>\n",
              "    </tr>\n",
              "    <tr>\n",
              "      <th>2011-12-31</th>\n",
              "      <td>4.583</td>\n",
              "    </tr>\n",
              "    <tr>\n",
              "      <th>2012-12-31</th>\n",
              "      <td>4.325</td>\n",
              "    </tr>\n",
              "    <tr>\n",
              "      <th>2013-12-31</th>\n",
              "      <td>4.008</td>\n",
              "    </tr>\n",
              "    <tr>\n",
              "      <th>2014-12-31</th>\n",
              "      <td>3.583</td>\n",
              "    </tr>\n",
              "    <tr>\n",
              "      <th>2015-12-31</th>\n",
              "      <td>3.375</td>\n",
              "    </tr>\n",
              "    <tr>\n",
              "      <th>2016-12-31</th>\n",
              "      <td>3.108</td>\n",
              "    </tr>\n",
              "    <tr>\n",
              "      <th>2017-12-31</th>\n",
              "      <td>2.817</td>\n",
              "    </tr>\n",
              "    <tr>\n",
              "      <th>2018-12-31</th>\n",
              "      <td>2.442</td>\n",
              "    </tr>\n",
              "    <tr>\n",
              "      <th>2019-12-31</th>\n",
              "      <td>2.433</td>\n",
              "    </tr>\n",
              "  </tbody>\n",
              "</table>\n",
              "</div>"
            ],
            "text/plain": [
              "            Value\n",
              "Date             \n",
              "2010-12-31  5.058\n",
              "2011-12-31  4.583\n",
              "2012-12-31  4.325\n",
              "2013-12-31  4.008\n",
              "2014-12-31  3.583\n",
              "2015-12-31  3.375\n",
              "2016-12-31  3.108\n",
              "2017-12-31  2.817\n",
              "2018-12-31  2.442\n",
              "2019-12-31  2.433"
            ]
          },
          "metadata": {
            "tags": []
          },
          "execution_count": 10
        }
      ]
    },
    {
      "cell_type": "markdown",
      "metadata": {
        "id": "I1LZuKcCGTFH",
        "colab_type": "text"
      },
      "source": [
        "## Feature Engineering"
      ]
    },
    {
      "cell_type": "code",
      "metadata": {
        "id": "fDt1Wn4IGj67",
        "colab_type": "code",
        "colab": {}
      },
      "source": [
        "##Spread\n",
        "#A spread is the price difference between where a trader may purchase or sell an underlying asset. \n",
        "df['spread']= df['askclose'] - df['bidclose']\n",
        "\n",
        "## Bid Close Return\n",
        "# References: https://quant.stackexchange.com/questions/21092/calculating-log-returns-across-multiple-securities-and-time , https://stackoverflow.com/questions/31742545/python-calculating-log-returns-of-a-time-series\n",
        "# NB: In Quantitative Finance, doing your math in log-returns considered good manners\n",
        "df['bid_close_return'] = np.log(df['bidclose']/df['bidclose'].shift(1))\n",
        "\n",
        "## Bid Close Up or Down\n",
        "#Was the bid close price up or down\n",
        "df['bid_close_up_down'] = np.where(df['bid_close_return'] >0 ,1,0) # Bid Close went up or down?\n",
        "\n",
        "##Simple Moving Average\n",
        "df['bid_close_rolling_mean_1'] = df['bidclose'].rolling(window=20).mean()\n",
        "df['bid_close_rolling_mean_2'] = df['bidclose'].rolling(window=50).mean()\n",
        "\n",
        "## Bid High Return\n",
        "# References: https://quant.stackexchange.com/questions/21092/calculating-log-returns-across-multiple-securities-and-time , https://stackoverflow.com/questions/31742545/python-calculating-log-returns-of-a-time-series\n",
        "# NB: In Quantitative Finance, doing your math in log-returns considered good manners\n",
        "df['bid_high_return'] = np.log(df['bidhigh']/df['bidhigh'].shift(1))\n",
        "\n",
        "## Bid Close Up or Down\n",
        "#Was the bid close price up or down\n",
        "df['bid_high_up_down'] = np.where(df['bid_high_return'] >0 ,1,0) # Bid Close went up or down?\n",
        "\n",
        "##Simple Moving Average\n",
        "df['bid_high_rolling_mean_1'] = df['bidhigh'].rolling(window=20).mean()\n",
        "df['bid_high_rolling_mean_2'] = df['bidhigh'].rolling(window=50).mean()\n",
        "\n",
        "df['bid_high_next'] = df['bidhigh'].shift(1)"
      ],
      "execution_count": 0,
      "outputs": []
    },
    {
      "cell_type": "code",
      "metadata": {
        "id": "khwrNM9smOt0",
        "colab_type": "code",
        "colab": {
          "base_uri": "https://localhost:8080/",
          "height": 579
        },
        "outputId": "55c5187b-0c74-4e3d-c443-f7838bab4705"
      },
      "source": [
        "df = df.drop(['Transaction_Date'], axis=1)\n",
        "df[0:10]"
      ],
      "execution_count": 12,
      "outputs": [
        {
          "output_type": "execute_result",
          "data": {
            "text/html": [
              "<div>\n",
              "<style scoped>\n",
              "    .dataframe tbody tr th:only-of-type {\n",
              "        vertical-align: middle;\n",
              "    }\n",
              "\n",
              "    .dataframe tbody tr th {\n",
              "        vertical-align: top;\n",
              "    }\n",
              "\n",
              "    .dataframe thead th {\n",
              "        text-align: right;\n",
              "    }\n",
              "</style>\n",
              "<table border=\"1\" class=\"dataframe\">\n",
              "  <thead>\n",
              "    <tr style=\"text-align: right;\">\n",
              "      <th></th>\n",
              "      <th>bidopen</th>\n",
              "      <th>bidclose</th>\n",
              "      <th>bidhigh</th>\n",
              "      <th>bidlow</th>\n",
              "      <th>askopen</th>\n",
              "      <th>askclose</th>\n",
              "      <th>askhigh</th>\n",
              "      <th>asklow</th>\n",
              "      <th>tickqty</th>\n",
              "      <th>US_Monthly_Interest_Rate</th>\n",
              "      <th>spread</th>\n",
              "      <th>bid_close_return</th>\n",
              "      <th>bid_close_up_down</th>\n",
              "      <th>bid_close_rolling_mean_1</th>\n",
              "      <th>bid_close_rolling_mean_2</th>\n",
              "      <th>bid_high_return</th>\n",
              "      <th>bid_high_up_down</th>\n",
              "      <th>bid_high_rolling_mean_1</th>\n",
              "      <th>bid_high_rolling_mean_2</th>\n",
              "      <th>bid_high_next</th>\n",
              "    </tr>\n",
              "    <tr>\n",
              "      <th>index_num</th>\n",
              "      <th></th>\n",
              "      <th></th>\n",
              "      <th></th>\n",
              "      <th></th>\n",
              "      <th></th>\n",
              "      <th></th>\n",
              "      <th></th>\n",
              "      <th></th>\n",
              "      <th></th>\n",
              "      <th></th>\n",
              "      <th></th>\n",
              "      <th></th>\n",
              "      <th></th>\n",
              "      <th></th>\n",
              "      <th></th>\n",
              "      <th></th>\n",
              "      <th></th>\n",
              "      <th></th>\n",
              "      <th></th>\n",
              "      <th></th>\n",
              "    </tr>\n",
              "  </thead>\n",
              "  <tbody>\n",
              "    <tr>\n",
              "      <th>2019-03-31 18:00:00</th>\n",
              "      <td>110.847</td>\n",
              "      <td>110.954</td>\n",
              "      <td>110.993</td>\n",
              "      <td>110.923</td>\n",
              "      <td>110.886</td>\n",
              "      <td>110.993</td>\n",
              "      <td>110.998</td>\n",
              "      <td>110.970</td>\n",
              "      <td>193</td>\n",
              "      <td>2.43</td>\n",
              "      <td>0.039</td>\n",
              "      <td>NaN</td>\n",
              "      <td>0</td>\n",
              "      <td>NaN</td>\n",
              "      <td>NaN</td>\n",
              "      <td>NaN</td>\n",
              "      <td>0</td>\n",
              "      <td>NaN</td>\n",
              "      <td>NaN</td>\n",
              "      <td>NaN</td>\n",
              "    </tr>\n",
              "    <tr>\n",
              "      <th>2019-03-31 19:00:00</th>\n",
              "      <td>110.954</td>\n",
              "      <td>111.007</td>\n",
              "      <td>111.018</td>\n",
              "      <td>110.940</td>\n",
              "      <td>110.993</td>\n",
              "      <td>111.012</td>\n",
              "      <td>111.030</td>\n",
              "      <td>110.974</td>\n",
              "      <td>215</td>\n",
              "      <td>2.43</td>\n",
              "      <td>0.005</td>\n",
              "      <td>0.000478</td>\n",
              "      <td>1</td>\n",
              "      <td>NaN</td>\n",
              "      <td>NaN</td>\n",
              "      <td>0.000225</td>\n",
              "      <td>1</td>\n",
              "      <td>NaN</td>\n",
              "      <td>NaN</td>\n",
              "      <td>110.993</td>\n",
              "    </tr>\n",
              "    <tr>\n",
              "      <th>2019-03-31 20:00:00</th>\n",
              "      <td>111.007</td>\n",
              "      <td>111.013</td>\n",
              "      <td>111.091</td>\n",
              "      <td>110.987</td>\n",
              "      <td>111.012</td>\n",
              "      <td>111.074</td>\n",
              "      <td>111.107</td>\n",
              "      <td>111.012</td>\n",
              "      <td>321</td>\n",
              "      <td>2.43</td>\n",
              "      <td>0.061</td>\n",
              "      <td>0.000054</td>\n",
              "      <td>1</td>\n",
              "      <td>NaN</td>\n",
              "      <td>NaN</td>\n",
              "      <td>0.000657</td>\n",
              "      <td>1</td>\n",
              "      <td>NaN</td>\n",
              "      <td>NaN</td>\n",
              "      <td>111.018</td>\n",
              "    </tr>\n",
              "    <tr>\n",
              "      <th>2019-03-31 21:00:00</th>\n",
              "      <td>111.013</td>\n",
              "      <td>110.932</td>\n",
              "      <td>111.041</td>\n",
              "      <td>110.878</td>\n",
              "      <td>111.074</td>\n",
              "      <td>110.965</td>\n",
              "      <td>111.086</td>\n",
              "      <td>110.893</td>\n",
              "      <td>1320</td>\n",
              "      <td>2.43</td>\n",
              "      <td>0.033</td>\n",
              "      <td>-0.000730</td>\n",
              "      <td>0</td>\n",
              "      <td>NaN</td>\n",
              "      <td>NaN</td>\n",
              "      <td>-0.000450</td>\n",
              "      <td>0</td>\n",
              "      <td>NaN</td>\n",
              "      <td>NaN</td>\n",
              "      <td>111.091</td>\n",
              "    </tr>\n",
              "    <tr>\n",
              "      <th>2019-03-31 22:00:00</th>\n",
              "      <td>110.932</td>\n",
              "      <td>110.936</td>\n",
              "      <td>110.983</td>\n",
              "      <td>110.897</td>\n",
              "      <td>110.965</td>\n",
              "      <td>110.950</td>\n",
              "      <td>110.999</td>\n",
              "      <td>110.911</td>\n",
              "      <td>7250</td>\n",
              "      <td>2.43</td>\n",
              "      <td>0.014</td>\n",
              "      <td>0.000036</td>\n",
              "      <td>1</td>\n",
              "      <td>NaN</td>\n",
              "      <td>NaN</td>\n",
              "      <td>-0.000522</td>\n",
              "      <td>0</td>\n",
              "      <td>NaN</td>\n",
              "      <td>NaN</td>\n",
              "      <td>111.041</td>\n",
              "    </tr>\n",
              "    <tr>\n",
              "      <th>2019-03-31 23:00:00</th>\n",
              "      <td>110.936</td>\n",
              "      <td>110.982</td>\n",
              "      <td>110.995</td>\n",
              "      <td>110.869</td>\n",
              "      <td>110.950</td>\n",
              "      <td>110.995</td>\n",
              "      <td>111.008</td>\n",
              "      <td>110.878</td>\n",
              "      <td>10756</td>\n",
              "      <td>2.43</td>\n",
              "      <td>0.013</td>\n",
              "      <td>0.000415</td>\n",
              "      <td>1</td>\n",
              "      <td>NaN</td>\n",
              "      <td>NaN</td>\n",
              "      <td>0.000108</td>\n",
              "      <td>1</td>\n",
              "      <td>NaN</td>\n",
              "      <td>NaN</td>\n",
              "      <td>110.983</td>\n",
              "    </tr>\n",
              "    <tr>\n",
              "      <th>2019-04-01 00:00:00</th>\n",
              "      <td>110.982</td>\n",
              "      <td>111.075</td>\n",
              "      <td>111.080</td>\n",
              "      <td>110.955</td>\n",
              "      <td>110.995</td>\n",
              "      <td>111.086</td>\n",
              "      <td>111.092</td>\n",
              "      <td>110.968</td>\n",
              "      <td>14499</td>\n",
              "      <td>2.41</td>\n",
              "      <td>0.011</td>\n",
              "      <td>0.000838</td>\n",
              "      <td>1</td>\n",
              "      <td>NaN</td>\n",
              "      <td>NaN</td>\n",
              "      <td>0.000766</td>\n",
              "      <td>1</td>\n",
              "      <td>NaN</td>\n",
              "      <td>NaN</td>\n",
              "      <td>110.995</td>\n",
              "    </tr>\n",
              "    <tr>\n",
              "      <th>2019-04-01 01:00:00</th>\n",
              "      <td>111.075</td>\n",
              "      <td>111.145</td>\n",
              "      <td>111.175</td>\n",
              "      <td>111.040</td>\n",
              "      <td>111.086</td>\n",
              "      <td>111.158</td>\n",
              "      <td>111.187</td>\n",
              "      <td>111.053</td>\n",
              "      <td>11333</td>\n",
              "      <td>2.41</td>\n",
              "      <td>0.013</td>\n",
              "      <td>0.000630</td>\n",
              "      <td>1</td>\n",
              "      <td>NaN</td>\n",
              "      <td>NaN</td>\n",
              "      <td>0.000855</td>\n",
              "      <td>1</td>\n",
              "      <td>NaN</td>\n",
              "      <td>NaN</td>\n",
              "      <td>111.080</td>\n",
              "    </tr>\n",
              "    <tr>\n",
              "      <th>2019-04-01 02:00:00</th>\n",
              "      <td>111.145</td>\n",
              "      <td>111.118</td>\n",
              "      <td>111.179</td>\n",
              "      <td>111.097</td>\n",
              "      <td>111.158</td>\n",
              "      <td>111.132</td>\n",
              "      <td>111.192</td>\n",
              "      <td>111.110</td>\n",
              "      <td>9539</td>\n",
              "      <td>2.41</td>\n",
              "      <td>0.014</td>\n",
              "      <td>-0.000243</td>\n",
              "      <td>0</td>\n",
              "      <td>NaN</td>\n",
              "      <td>NaN</td>\n",
              "      <td>0.000036</td>\n",
              "      <td>1</td>\n",
              "      <td>NaN</td>\n",
              "      <td>NaN</td>\n",
              "      <td>111.175</td>\n",
              "    </tr>\n",
              "    <tr>\n",
              "      <th>2019-04-01 03:00:00</th>\n",
              "      <td>111.118</td>\n",
              "      <td>111.076</td>\n",
              "      <td>111.120</td>\n",
              "      <td>111.039</td>\n",
              "      <td>111.132</td>\n",
              "      <td>111.089</td>\n",
              "      <td>111.133</td>\n",
              "      <td>111.051</td>\n",
              "      <td>7841</td>\n",
              "      <td>2.41</td>\n",
              "      <td>0.013</td>\n",
              "      <td>-0.000378</td>\n",
              "      <td>0</td>\n",
              "      <td>NaN</td>\n",
              "      <td>NaN</td>\n",
              "      <td>-0.000531</td>\n",
              "      <td>0</td>\n",
              "      <td>NaN</td>\n",
              "      <td>NaN</td>\n",
              "      <td>111.179</td>\n",
              "    </tr>\n",
              "  </tbody>\n",
              "</table>\n",
              "</div>"
            ],
            "text/plain": [
              "                     bidopen  bidclose  ...  bid_high_rolling_mean_2  bid_high_next\n",
              "index_num                               ...                                        \n",
              "2019-03-31 18:00:00  110.847   110.954  ...                      NaN            NaN\n",
              "2019-03-31 19:00:00  110.954   111.007  ...                      NaN        110.993\n",
              "2019-03-31 20:00:00  111.007   111.013  ...                      NaN        111.018\n",
              "2019-03-31 21:00:00  111.013   110.932  ...                      NaN        111.091\n",
              "2019-03-31 22:00:00  110.932   110.936  ...                      NaN        111.041\n",
              "2019-03-31 23:00:00  110.936   110.982  ...                      NaN        110.983\n",
              "2019-04-01 00:00:00  110.982   111.075  ...                      NaN        110.995\n",
              "2019-04-01 01:00:00  111.075   111.145  ...                      NaN        111.080\n",
              "2019-04-01 02:00:00  111.145   111.118  ...                      NaN        111.175\n",
              "2019-04-01 03:00:00  111.118   111.076  ...                      NaN        111.179\n",
              "\n",
              "[10 rows x 20 columns]"
            ]
          },
          "metadata": {
            "tags": []
          },
          "execution_count": 12
        }
      ]
    },
    {
      "cell_type": "code",
      "metadata": {
        "id": "Z3ocJMh--yQz",
        "colab_type": "code",
        "colab": {
          "base_uri": "https://localhost:8080/",
          "height": 243
        },
        "outputId": "9ae98ce5-ff67-4c40-a3fe-07560b6ae678"
      },
      "source": [
        "from sklearn.impute import KNNImputer\n",
        "nan = np.nan\n",
        "imputer = KNNImputer(n_neighbors=2, weights=\"uniform\")\n",
        "imputer.fit_transform(df)"
      ],
      "execution_count": 15,
      "outputs": [
        {
          "output_type": "execute_result",
          "data": {
            "text/plain": [
              "array([[110.847   , 110.954   , 110.993   , ..., 111.045575, 110.71579 ,\n",
              "        111.1075  ],\n",
              "       [110.954   , 111.007   , 111.018   , ..., 111.4822  , 111.50839 ,\n",
              "        110.993   ],\n",
              "       [111.007   , 111.013   , 111.091   , ..., 110.85925 , 110.63102 ,\n",
              "        111.018   ],\n",
              "       ...,\n",
              "       [ 82.464   ,  82.417   ,  82.464   , ...,  82.1658  ,  81.9     ,\n",
              "         82.475   ],\n",
              "       [ 82.417   ,  82.498   ,  82.525   , ...,  82.2045  ,  81.92116 ,\n",
              "         82.464   ],\n",
              "       [ 82.498   ,  82.454   ,  82.506   , ...,  82.24355 ,  81.94174 ,\n",
              "         82.525   ]])"
            ]
          },
          "metadata": {
            "tags": []
          },
          "execution_count": 15
        }
      ]
    },
    {
      "cell_type": "code",
      "metadata": {
        "id": "rnx-IHHG5y2j",
        "colab_type": "code",
        "colab": {
          "base_uri": "https://localhost:8080/",
          "height": 381
        },
        "outputId": "e58162f3-116a-4cd9-c0da-43fb6a3f5674"
      },
      "source": [
        "### Impute feature engineered missing values with mean\n",
        "# Create an imputer object that looks for 'Nan' values, then replaces them with the mean value of the feature by columns (axis=0)\n",
        "mean_imputer = SimpleImputer(missing_values='NaN', strategy='mean')\n",
        "# Train the imputor on the df dataset\n",
        "mean_imputer = mean_imputer.fit(df)\n",
        "# Apply the imputer to the df dataset\n",
        "df = mean_imputer.transform(df.values)\n"
      ],
      "execution_count": 14,
      "outputs": [
        {
          "output_type": "error",
          "ename": "ValueError",
          "evalue": "ignored",
          "traceback": [
            "\u001b[0;31m---------------------------------------------------------------------------\u001b[0m",
            "\u001b[0;31mValueError\u001b[0m                                Traceback (most recent call last)",
            "\u001b[0;32m<ipython-input-14-29306a1e3068>\u001b[0m in \u001b[0;36m<module>\u001b[0;34m()\u001b[0m\n\u001b[1;32m      1\u001b[0m \u001b[0mmean_imputer\u001b[0m \u001b[0;34m=\u001b[0m \u001b[0mSimpleImputer\u001b[0m\u001b[0;34m(\u001b[0m\u001b[0mmissing_values\u001b[0m\u001b[0;34m=\u001b[0m\u001b[0;34m'NaN'\u001b[0m\u001b[0;34m,\u001b[0m \u001b[0mstrategy\u001b[0m\u001b[0;34m=\u001b[0m\u001b[0;34m'mean'\u001b[0m\u001b[0;34m)\u001b[0m\u001b[0;34m\u001b[0m\u001b[0;34m\u001b[0m\u001b[0m\n\u001b[1;32m      2\u001b[0m \u001b[0;31m# Train the imputor on the df dataset\u001b[0m\u001b[0;34m\u001b[0m\u001b[0;34m\u001b[0m\u001b[0;34m\u001b[0m\u001b[0m\n\u001b[0;32m----> 3\u001b[0;31m \u001b[0mmean_imputer\u001b[0m \u001b[0;34m=\u001b[0m \u001b[0mmean_imputer\u001b[0m\u001b[0;34m.\u001b[0m\u001b[0mfit\u001b[0m\u001b[0;34m(\u001b[0m\u001b[0mdf\u001b[0m\u001b[0;34m)\u001b[0m\u001b[0;34m\u001b[0m\u001b[0;34m\u001b[0m\u001b[0m\n\u001b[0m\u001b[1;32m      4\u001b[0m \u001b[0;31m# Apply the imputer to the df dataset\u001b[0m\u001b[0;34m\u001b[0m\u001b[0;34m\u001b[0m\u001b[0;34m\u001b[0m\u001b[0m\n\u001b[1;32m      5\u001b[0m \u001b[0mdf\u001b[0m \u001b[0;34m=\u001b[0m \u001b[0mmean_imputer\u001b[0m\u001b[0;34m.\u001b[0m\u001b[0mtransform\u001b[0m\u001b[0;34m(\u001b[0m\u001b[0mdf\u001b[0m\u001b[0;34m.\u001b[0m\u001b[0mvalues\u001b[0m\u001b[0;34m)\u001b[0m\u001b[0;34m\u001b[0m\u001b[0;34m\u001b[0m\u001b[0m\n",
            "\u001b[0;32m/usr/local/lib/python3.6/dist-packages/sklearn/impute/_base.py\u001b[0m in \u001b[0;36mfit\u001b[0;34m(self, X, y)\u001b[0m\n\u001b[1;32m    266\u001b[0m         \u001b[0mself\u001b[0m \u001b[0;34m:\u001b[0m \u001b[0mSimpleImputer\u001b[0m\u001b[0;34m\u001b[0m\u001b[0;34m\u001b[0m\u001b[0m\n\u001b[1;32m    267\u001b[0m         \"\"\"\n\u001b[0;32m--> 268\u001b[0;31m         \u001b[0mX\u001b[0m \u001b[0;34m=\u001b[0m \u001b[0mself\u001b[0m\u001b[0;34m.\u001b[0m\u001b[0m_validate_input\u001b[0m\u001b[0;34m(\u001b[0m\u001b[0mX\u001b[0m\u001b[0;34m)\u001b[0m\u001b[0;34m\u001b[0m\u001b[0;34m\u001b[0m\u001b[0m\n\u001b[0m\u001b[1;32m    269\u001b[0m         \u001b[0msuper\u001b[0m\u001b[0;34m(\u001b[0m\u001b[0;34m)\u001b[0m\u001b[0;34m.\u001b[0m\u001b[0m_fit_indicator\u001b[0m\u001b[0;34m(\u001b[0m\u001b[0mX\u001b[0m\u001b[0;34m)\u001b[0m\u001b[0;34m\u001b[0m\u001b[0;34m\u001b[0m\u001b[0m\n\u001b[1;32m    270\u001b[0m \u001b[0;34m\u001b[0m\u001b[0m\n",
            "\u001b[0;32m/usr/local/lib/python3.6/dist-packages/sklearn/impute/_base.py\u001b[0m in \u001b[0;36m_validate_input\u001b[0;34m(self, X)\u001b[0m\n\u001b[1;32m    240\u001b[0m                 \u001b[0;32mraise\u001b[0m \u001b[0mnew_ve\u001b[0m \u001b[0;32mfrom\u001b[0m \u001b[0;32mNone\u001b[0m\u001b[0;34m\u001b[0m\u001b[0;34m\u001b[0m\u001b[0m\n\u001b[1;32m    241\u001b[0m             \u001b[0;32melse\u001b[0m\u001b[0;34m:\u001b[0m\u001b[0;34m\u001b[0m\u001b[0;34m\u001b[0m\u001b[0m\n\u001b[0;32m--> 242\u001b[0;31m                 \u001b[0;32mraise\u001b[0m \u001b[0mve\u001b[0m\u001b[0;34m\u001b[0m\u001b[0;34m\u001b[0m\u001b[0m\n\u001b[0m\u001b[1;32m    243\u001b[0m \u001b[0;34m\u001b[0m\u001b[0m\n\u001b[1;32m    244\u001b[0m         \u001b[0m_check_inputs_dtype\u001b[0m\u001b[0;34m(\u001b[0m\u001b[0mX\u001b[0m\u001b[0;34m,\u001b[0m \u001b[0mself\u001b[0m\u001b[0;34m.\u001b[0m\u001b[0mmissing_values\u001b[0m\u001b[0;34m)\u001b[0m\u001b[0;34m\u001b[0m\u001b[0;34m\u001b[0m\u001b[0m\n",
            "\u001b[0;32m/usr/local/lib/python3.6/dist-packages/sklearn/impute/_base.py\u001b[0m in \u001b[0;36m_validate_input\u001b[0;34m(self, X)\u001b[0m\n\u001b[1;32m    233\u001b[0m         \u001b[0;32mtry\u001b[0m\u001b[0;34m:\u001b[0m\u001b[0;34m\u001b[0m\u001b[0;34m\u001b[0m\u001b[0m\n\u001b[1;32m    234\u001b[0m             X = check_array(X, accept_sparse='csc', dtype=dtype,\n\u001b[0;32m--> 235\u001b[0;31m                             force_all_finite=force_all_finite, copy=self.copy)\n\u001b[0m\u001b[1;32m    236\u001b[0m         \u001b[0;32mexcept\u001b[0m \u001b[0mValueError\u001b[0m \u001b[0;32mas\u001b[0m \u001b[0mve\u001b[0m\u001b[0;34m:\u001b[0m\u001b[0;34m\u001b[0m\u001b[0;34m\u001b[0m\u001b[0m\n\u001b[1;32m    237\u001b[0m             \u001b[0;32mif\u001b[0m \u001b[0;34m\"could not convert\"\u001b[0m \u001b[0;32min\u001b[0m \u001b[0mstr\u001b[0m\u001b[0;34m(\u001b[0m\u001b[0mve\u001b[0m\u001b[0;34m)\u001b[0m\u001b[0;34m:\u001b[0m\u001b[0;34m\u001b[0m\u001b[0;34m\u001b[0m\u001b[0m\n",
            "\u001b[0;32m/usr/local/lib/python3.6/dist-packages/sklearn/utils/validation.py\u001b[0m in \u001b[0;36mcheck_array\u001b[0;34m(array, accept_sparse, accept_large_sparse, dtype, order, copy, force_all_finite, ensure_2d, allow_nd, ensure_min_samples, ensure_min_features, warn_on_dtype, estimator)\u001b[0m\n\u001b[1;32m    576\u001b[0m         \u001b[0;32mif\u001b[0m \u001b[0mforce_all_finite\u001b[0m\u001b[0;34m:\u001b[0m\u001b[0;34m\u001b[0m\u001b[0;34m\u001b[0m\u001b[0m\n\u001b[1;32m    577\u001b[0m             _assert_all_finite(array,\n\u001b[0;32m--> 578\u001b[0;31m                                allow_nan=force_all_finite == 'allow-nan')\n\u001b[0m\u001b[1;32m    579\u001b[0m \u001b[0;34m\u001b[0m\u001b[0m\n\u001b[1;32m    580\u001b[0m     \u001b[0;32mif\u001b[0m \u001b[0mensure_min_samples\u001b[0m \u001b[0;34m>\u001b[0m \u001b[0;36m0\u001b[0m\u001b[0;34m:\u001b[0m\u001b[0;34m\u001b[0m\u001b[0;34m\u001b[0m\u001b[0m\n",
            "\u001b[0;32m/usr/local/lib/python3.6/dist-packages/sklearn/utils/validation.py\u001b[0m in \u001b[0;36m_assert_all_finite\u001b[0;34m(X, allow_nan, msg_dtype)\u001b[0m\n\u001b[1;32m     58\u001b[0m                     \u001b[0mmsg_err\u001b[0m\u001b[0;34m.\u001b[0m\u001b[0mformat\u001b[0m\u001b[0;34m\u001b[0m\u001b[0;34m\u001b[0m\u001b[0m\n\u001b[1;32m     59\u001b[0m                     (type_err,\n\u001b[0;32m---> 60\u001b[0;31m                      msg_dtype if msg_dtype is not None else X.dtype)\n\u001b[0m\u001b[1;32m     61\u001b[0m             )\n\u001b[1;32m     62\u001b[0m     \u001b[0;31m# for object dtype data, we only check for NaNs (GH-13254)\u001b[0m\u001b[0;34m\u001b[0m\u001b[0;34m\u001b[0m\u001b[0;34m\u001b[0m\u001b[0m\n",
            "\u001b[0;31mValueError\u001b[0m: Input contains NaN, infinity or a value too large for dtype('float64')."
          ]
        }
      ]
    },
    {
      "cell_type": "markdown",
      "metadata": {
        "id": "uiqMelh2uyyA",
        "colab_type": "text"
      },
      "source": [
        "## Exploratory Data Analysis"
      ]
    },
    {
      "cell_type": "markdown",
      "metadata": {
        "id": "EqTVla-8u7eP",
        "colab_type": "text"
      },
      "source": [
        "### Data Cleaning"
      ]
    },
    {
      "cell_type": "markdown",
      "metadata": {
        "id": "8VLxVow-IZkO",
        "colab_type": "text"
      },
      "source": [
        "a) Missing records"
      ]
    },
    {
      "cell_type": "code",
      "metadata": {
        "id": "2nTl151su19u",
        "colab_type": "code",
        "colab": {}
      },
      "source": [
        "pass"
      ],
      "execution_count": 0,
      "outputs": []
    },
    {
      "cell_type": "markdown",
      "metadata": {
        "id": "gyF7603VIbiG",
        "colab_type": "text"
      },
      "source": [
        "b) Duplicate records"
      ]
    },
    {
      "cell_type": "code",
      "metadata": {
        "id": "P_E_uNcRu3xr",
        "colab_type": "code",
        "colab": {}
      },
      "source": [
        "pass"
      ],
      "execution_count": 0,
      "outputs": []
    },
    {
      "cell_type": "markdown",
      "metadata": {
        "id": "-ICPQuwIIeVG",
        "colab_type": "text"
      },
      "source": [
        "c) Outliers"
      ]
    },
    {
      "cell_type": "code",
      "metadata": {
        "id": "9y9p4_PkIfQo",
        "colab_type": "code",
        "colab": {}
      },
      "source": [
        "df.index"
      ],
      "execution_count": 0,
      "outputs": []
    },
    {
      "cell_type": "markdown",
      "metadata": {
        "id": "7pmxQ30cIhGi",
        "colab_type": "text"
      },
      "source": [
        "###  Univariate Analysis"
      ]
    },
    {
      "cell_type": "code",
      "metadata": {
        "id": "JX9AjQiNRPfa",
        "colab_type": "code",
        "colab": {}
      },
      "source": [
        "df['bidclose'].plot()\n",
        "plt.title(\"Bid Close \")\n",
        "plt.show()\n",
        "\n",
        "df['Bid_Close_rolling_mean_2'].plot()\n",
        "plt.title(\"Bid Close Rolling Mean \")\n",
        "plt.show()"
      ],
      "execution_count": 0,
      "outputs": []
    },
    {
      "cell_type": "code",
      "metadata": {
        "id": "awi4NpSPIgHt",
        "colab_type": "code",
        "colab": {}
      },
      "source": [
        "#Create Plot\n",
        "fig = go.Figure(data=[go.Candlestick(x=df.index,open=df['bidopen'],high=df['bidhigh'],low=df['bidlow'],close=df['bidclose'])])\n",
        "#Specify title and y axis\n",
        "fig.update_layout( title='Forex Pricing Patterns for last 10 years',yaxis_title='Price',xaxis_title='Year')\n",
        "#pio.write_html(fig, file='../forex.html')\n",
        "fig.show(renderer = \"colab\",auto_open=True)\n",
        "# fig.write_html('tmp.html', auto_open=True)"
      ],
      "execution_count": 0,
      "outputs": []
    },
    {
      "cell_type": "markdown",
      "metadata": {
        "id": "Y4Ah0QFxM1DA",
        "colab_type": "text"
      },
      "source": [
        "Price was lowest in 2012 and highest in 2016\n"
      ]
    },
    {
      "cell_type": "markdown",
      "metadata": {
        "id": "Da78Dq1fj__t",
        "colab_type": "text"
      },
      "source": [
        "## Bivariate Analysis"
      ]
    },
    {
      "cell_type": "markdown",
      "metadata": {
        "id": "tLKtVIIMj3pZ",
        "colab_type": "text"
      },
      "source": [
        "## Multivariate Analysis"
      ]
    },
    {
      "cell_type": "markdown",
      "metadata": {
        "id": "hkC41ts6j7O1",
        "colab_type": "text"
      },
      "source": [
        "## Pre-Modelling Steps"
      ]
    },
    {
      "cell_type": "markdown",
      "metadata": {
        "id": "_2QpvX1zkLQ5",
        "colab_type": "text"
      },
      "source": [
        "a) Normality Test"
      ]
    },
    {
      "cell_type": "markdown",
      "metadata": {
        "id": "lmXu82J909UG",
        "colab_type": "text"
      },
      "source": [
        "b) Scaling and train test split"
      ]
    },
    {
      "cell_type": "code",
      "metadata": {
        "colab_type": "code",
        "id": "VieOHWCc_bkw",
        "colab": {}
      },
      "source": [
        "columns = ['bidopen', 'bidclose', 'bidhigh', 'bidlow', 'askopen', 'askclose','askhigh', 'asklow', 'tickqty', \n",
        "       'US_Monthly_Interest_Rate', 'spread']\n",
        "labels = df['bid_close_up_down'].values #bid_high_next 'bid_close_return',  'bid_high_up_down'\n",
        "features = df[list(columns)].values\n",
        "\n",
        "min_max = MinMaxScaler()\n",
        "newfeatures = min_max.fit_transform(features)\n",
        "X_train, X_test, y_train, y_test = train_test_split(newfeatures, labels, test_size=0.1)"
      ],
      "execution_count": 0,
      "outputs": []
    },
    {
      "cell_type": "code",
      "metadata": {
        "id": "FVpZuUGu5Ci5",
        "colab_type": "code",
        "colab": {
          "base_uri": "https://localhost:8080/",
          "height": 485
        },
        "outputId": "83dc4094-14c1-4d39-e73c-bf7f8fdbe791"
      },
      "source": [
        "df.info()\n",
        "#Drop null or  impute."
      ],
      "execution_count": 16,
      "outputs": [
        {
          "output_type": "stream",
          "text": [
            "<class 'pandas.core.frame.DataFrame'>\n",
            "DatetimeIndex: 62948 entries, 2019-03-31 18:00:00 to 2011-03-30 00:00:00\n",
            "Data columns (total 20 columns):\n",
            " #   Column                    Non-Null Count  Dtype  \n",
            "---  ------                    --------------  -----  \n",
            " 0   bidopen                   62948 non-null  float64\n",
            " 1   bidclose                  62948 non-null  float64\n",
            " 2   bidhigh                   62948 non-null  float64\n",
            " 3   bidlow                    62948 non-null  float64\n",
            " 4   askopen                   62948 non-null  float64\n",
            " 5   askclose                  62948 non-null  float64\n",
            " 6   askhigh                   62948 non-null  float64\n",
            " 7   asklow                    62948 non-null  float64\n",
            " 8   tickqty                   62948 non-null  int64  \n",
            " 9   US_Monthly_Interest_Rate  62948 non-null  float64\n",
            " 10  spread                    62948 non-null  float64\n",
            " 11  bid_close_return          62947 non-null  float64\n",
            " 12  bid_close_up_down         62948 non-null  int64  \n",
            " 13  bid_close_rolling_mean_1  62929 non-null  float64\n",
            " 14  bid_close_rolling_mean_2  62899 non-null  float64\n",
            " 15  bid_high_return           62947 non-null  float64\n",
            " 16  bid_high_up_down          62948 non-null  int64  \n",
            " 17  bid_high_rolling_mean_1   62929 non-null  float64\n",
            " 18  bid_high_rolling_mean_2   62899 non-null  float64\n",
            " 19  bid_high_next             62947 non-null  float64\n",
            "dtypes: float64(17), int64(3)\n",
            "memory usage: 10.1 MB\n"
          ],
          "name": "stdout"
        }
      ]
    },
    {
      "cell_type": "markdown",
      "metadata": {
        "id": "W3UXQ10bi7jY",
        "colab_type": "text"
      },
      "source": [
        "## Modelling"
      ]
    },
    {
      "cell_type": "markdown",
      "metadata": {
        "id": "N4gEWf4BlBd2",
        "colab_type": "text"
      },
      "source": [
        "Support Vector Machine\n"
      ]
    },
    {
      "cell_type": "code",
      "metadata": {
        "id": "_qKq_fzhi-Pb",
        "colab_type": "code",
        "colab": {
          "base_uri": "https://localhost:8080/",
          "height": 433
        },
        "outputId": "d186fddf-a17e-4a2e-cc62-04b459ca3f29"
      },
      "source": [
        "clf = svm.SVC(kernel='linear')\n",
        "clf = clf.fit(X_train, y_train)\n",
        "\n",
        "accuracy = clf.score(X_train, y_train)\n",
        "print (' training data accuracy ', accuracy*100)\n",
        "\n",
        "accuracy = clf.score(X_test, y_test)\n",
        "print (' testing data accuracy ', accuracy*100)\n",
        "\n",
        "ypredict = clf.predict(X_train)\n",
        "print ('\\n Training classification report\\n', classification_report(y_train, ypredict))\n",
        "\n",
        "ypredict = clf.predict(X_test)\n",
        "print ('\\n Testing classification report\\n', classification_report(y_test, ypredict))"
      ],
      "execution_count": 22,
      "outputs": [
        {
          "output_type": "stream",
          "text": [
            " traning data accuracy  53.89652798616137\n",
            " testing data accuracy  52.851469420174745\n",
            "\n",
            " Training classification report\n",
            "               precision    recall  f1-score   support\n",
            "\n",
            "           0       0.83      0.08      0.15     27957\n",
            "           1       0.52      0.98      0.68     28696\n",
            "\n",
            "    accuracy                           0.54     56653\n",
            "   macro avg       0.68      0.53      0.42     56653\n",
            "weighted avg       0.68      0.54      0.42     56653\n",
            "\n",
            "\n",
            " Testing classification report\n",
            "               precision    recall  f1-score   support\n",
            "\n",
            "           0       0.80      0.07      0.13      3139\n",
            "           1       0.52      0.98      0.68      3156\n",
            "\n",
            "    accuracy                           0.53      6295\n",
            "   macro avg       0.66      0.53      0.40      6295\n",
            "weighted avg       0.66      0.53      0.41      6295\n",
            "\n"
          ],
          "name": "stdout"
        }
      ]
    },
    {
      "cell_type": "markdown",
      "metadata": {
        "id": "K7e0boVACll8",
        "colab_type": "text"
      },
      "source": [
        "Arima"
      ]
    },
    {
      "cell_type": "code",
      "metadata": {
        "id": "eCXT5VcQCkA5",
        "colab_type": "code",
        "colab": {}
      },
      "source": [
        "from statsmodels.tsa.arima_model import ARIMA\n",
        "# fit model\n",
        "model = ARIMA(series, order=(5,1,0))\n",
        "model_fit = model.fit(disp=0)\n",
        "print(model_fit.summary())"
      ],
      "execution_count": 0,
      "outputs": []
    },
    {
      "cell_type": "markdown",
      "metadata": {
        "id": "q359gA0v45-x",
        "colab_type": "text"
      },
      "source": [
        "Gradient Boosting"
      ]
    },
    {
      "cell_type": "code",
      "metadata": {
        "id": "22zjL10z45Vl",
        "colab_type": "code",
        "colab": {}
      },
      "source": [
        "from sklearn.ensemble import GradientBoostingClassifier\n",
        "clf = GradientBoostingClassifier(random_state=0, learning_rate=0.01, n_estimators=10000)\n",
        "\n",
        "clf.fit(X_train, y_train)\n",
        "\n",
        "accuracy = clf.score(X_train, y_train)\n",
        "print('Testing Accuracy: %f' % accuracy)"
      ],
      "execution_count": 0,
      "outputs": []
    },
    {
      "cell_type": "code",
      "metadata": {
        "id": "TdTj456BBPpu",
        "colab_type": "code",
        "colab": {
          "base_uri": "https://localhost:8080/",
          "height": 35
        },
        "outputId": "48343732-1675-41fa-bf17-bd29761800d0"
      },
      "source": [
        "y_test"
      ],
      "execution_count": 23,
      "outputs": [
        {
          "output_type": "execute_result",
          "data": {
            "text/plain": [
              "array([1, 0, 1, ..., 1, 1, 1])"
            ]
          },
          "metadata": {
            "tags": []
          },
          "execution_count": 23
        }
      ]
    },
    {
      "cell_type": "code",
      "metadata": {
        "id": "1eaK9YqHAp4P",
        "colab_type": "code",
        "colab": {}
      },
      "source": [
        "#Predict test data\n",
        "\n",
        "pred = clf.predict(y_test)\n",
        "# Calculate equity..\n",
        "contracts  = 10000.0\n",
        "commission = 0.0\n",
        "\n",
        "df_trade = pd.DataFrame(train_x[train_len:,-1], columns=['return'])\n",
        "df_trade['label']  = train_y[train_len:]\n",
        "df_trade['pred']   = pred\n",
        "df_trade['won']    = df_trade['label'] == df_trade['pred']\n",
        "df_trade['return'] = df_trade['return'].shift(-1) * return_range\n",
        "df_trade.drop(df_trade.index[len(df_trade)-1], inplace=True)\n",
        "\n",
        "def calc_profit(row):\n",
        "    if row['won']:\n",
        "        return abs(row['return'])*contracts - commission\n",
        "    else:\n",
        "        return -abs(row['return'])*contracts - commission\n",
        "\n",
        "df_trade['pnl'] = df_trade.apply(lambda row: calc_profit(row), axis=1)\n",
        "df_trade['equity'] = df_trade['pnl'].cumsum()\n",
        "\n",
        "display(df_trade.tail())\n",
        "df_trade.plot(y='equity', figsize=(10,4), title='Backtest with $10000 initial capital')\n",
        "plt.xlabel('Trades')\n",
        "plt.ylabel('Equity (USD)')\n",
        "for r in df_trade.iterrows():\n",
        "    if r[1]['won']:\n",
        "        plt.axvline(x=r[0], linewidth=0.5, alpha=0.8, color='g')\n",
        "    else:\n",
        "        plt.axvline(x=r[0], linewidth=0.5, alpha=0.8, color='r')\n"
      ],
      "execution_count": 0,
      "outputs": []
    }
  ]
}